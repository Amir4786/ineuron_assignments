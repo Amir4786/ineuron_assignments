{
 "cells": [
  {
   "cell_type": "code",
   "execution_count": 4,
   "id": "a32ed9fc",
   "metadata": {},
   "outputs": [],
   "source": [
    "## Q1.\n",
    "def f(x):\n",
    "    if x//2*2==x:\n",
    "        return 8\n",
    "    else:\n",
    "        return 2"
   ]
  },
  {
   "cell_type": "code",
   "execution_count": 11,
   "id": "490ff3b3",
   "metadata": {},
   "outputs": [
    {
     "name": "stdout",
     "output_type": "stream",
     "text": [
      "2\n",
      "8\n",
      "2\n"
     ]
    }
   ],
   "source": [
    "print(f(1))\n",
    "print(f(2))\n",
    "print(f(3))"
   ]
  },
  {
   "cell_type": "code",
   "execution_count": 28,
   "id": "213a7a09",
   "metadata": {},
   "outputs": [],
   "source": [
    "## Q2.\n",
    "def majority_vote(l):\n",
    "    l1={}\n",
    "    for i in l:\n",
    "        if i not in l1:\n",
    "            l1[i]=1\n",
    "        else:\n",
    "            l1[i]+=1\n",
    "    max_len= max(l1,key=l1.get)\n",
    "    if l1[max_len]>len(l)/2:\n",
    "        return max_len\n",
    "    else:\n",
    "        print(\"None\")"
   ]
  },
  {
   "cell_type": "code",
   "execution_count": 29,
   "id": "8457ea41",
   "metadata": {},
   "outputs": [
    {
     "name": "stdout",
     "output_type": "stream",
     "text": [
      "None\n"
     ]
    }
   ],
   "source": [
    "majority_vote(['a','a','b','c','b'])"
   ]
  },
  {
   "cell_type": "code",
   "execution_count": 30,
   "id": "32258f92",
   "metadata": {},
   "outputs": [
    {
     "data": {
      "text/plain": [
       "'a'"
      ]
     },
     "execution_count": 30,
     "metadata": {},
     "output_type": "execute_result"
    }
   ],
   "source": [
    "majority_vote(['a','a','b','c','b','a','a'])"
   ]
  },
  {
   "cell_type": "code",
   "execution_count": 55,
   "id": "29111a49",
   "metadata": {},
   "outputs": [],
   "source": [
    "## Q3.\n",
    "def censor_string(a:str,b:list,c:str):\n",
    "    a=a.split(\" \")\n",
    "    d=[]\n",
    "    for i in a:\n",
    "        if i in b:\n",
    "            d.append(c*len(i))\n",
    "        else:\n",
    "            d.append(i)\n",
    "    return \" \".join(d)"
   ]
  },
  {
   "cell_type": "code",
   "execution_count": 57,
   "id": "f83dba5d",
   "metadata": {},
   "outputs": [
    {
     "data": {
      "text/plain": [
       "'The *** jumped **** the moon.'"
      ]
     },
     "execution_count": 57,
     "metadata": {},
     "output_type": "execute_result"
    }
   ],
   "source": [
    "censor_string(\"The cow jumped over the moon.\",['cow','over'],'*')"
   ]
  },
  {
   "cell_type": "code",
   "execution_count": 86,
   "id": "1647ef48",
   "metadata": {},
   "outputs": [],
   "source": [
    "## Q4.\n",
    "def is_polydivisible(x):\n",
    "    a=x\n",
    "    b=[x]\n",
    "    d=0\n",
    "    while a>0:\n",
    "        digit=a//10\n",
    "        a=digit\n",
    "        b.append(a)\n",
    "    b= b[:-1]\n",
    "    c= len(b)\n",
    "    for i in b:\n",
    "        if i/c==i//c:\n",
    "            d+=1\n",
    "        c-=1\n",
    "    if len(b)==d:\n",
    "        return True\n",
    "    else:\n",
    "        return False"
   ]
  },
  {
   "cell_type": "code",
   "execution_count": 87,
   "id": "1dfb14fb",
   "metadata": {},
   "outputs": [
    {
     "data": {
      "text/plain": [
       "True"
      ]
     },
     "execution_count": 87,
     "metadata": {},
     "output_type": "execute_result"
    }
   ],
   "source": [
    "is_polydivisible(1232)"
   ]
  },
  {
   "cell_type": "code",
   "execution_count": 88,
   "id": "844d9bea",
   "metadata": {},
   "outputs": [
    {
     "data": {
      "text/plain": [
       "False"
      ]
     },
     "execution_count": 88,
     "metadata": {},
     "output_type": "execute_result"
    }
   ],
   "source": [
    "is_polydivisible(123220)"
   ]
  },
  {
   "cell_type": "code",
   "execution_count": 105,
   "id": "77cfe57c",
   "metadata": {},
   "outputs": [],
   "source": [
    "## Q5.\n",
    "def sum_primes(x):\n",
    "    b=0\n",
    "    for i in x:\n",
    "        if i>1:\n",
    "            if all(i%j!=0 for j in range(2,i)):\n",
    "                b+=i\n",
    "    return b"
   ]
  },
  {
   "cell_type": "code",
   "execution_count": 110,
   "id": "f1b149ac",
   "metadata": {},
   "outputs": [
    {
     "data": {
      "text/plain": [
       "25"
      ]
     },
     "execution_count": 110,
     "metadata": {},
     "output_type": "execute_result"
    }
   ],
   "source": [
    "sum_primes([1,2,4,5,7,9,10,11])"
   ]
  },
  {
   "cell_type": "code",
   "execution_count": null,
   "id": "93af324e",
   "metadata": {},
   "outputs": [],
   "source": []
  }
 ],
 "metadata": {
  "kernelspec": {
   "display_name": "Python 3",
   "language": "python",
   "name": "python3"
  },
  "language_info": {
   "codemirror_mode": {
    "name": "ipython",
    "version": 3
   },
   "file_extension": ".py",
   "mimetype": "text/x-python",
   "name": "python",
   "nbconvert_exporter": "python",
   "pygments_lexer": "ipython3",
   "version": "3.9.13"
  }
 },
 "nbformat": 4,
 "nbformat_minor": 5
}
