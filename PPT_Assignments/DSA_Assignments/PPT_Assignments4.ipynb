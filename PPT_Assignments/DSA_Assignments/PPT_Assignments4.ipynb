{
 "cells": [
  {
   "cell_type": "code",
   "execution_count": 2,
   "metadata": {},
   "outputs": [],
   "source": [
    "# Q1\n",
    "def arrays(arr1,arr2,arr3):\n",
    "    a=[]\n",
    "    for i in arr1:\n",
    "        if i in (arr2 and arr3):\n",
    "            a.append(i)\n",
    "    return a"
   ]
  },
  {
   "cell_type": "code",
   "execution_count": 5,
   "metadata": {},
   "outputs": [
    {
     "data": {
      "text/plain": [
       "[1, 2, 6]"
      ]
     },
     "execution_count": 5,
     "metadata": {},
     "output_type": "execute_result"
    }
   ],
   "source": [
    "arrays([1,2,3,4,5,6],[2,6,7,1,5],[9,2,6,1,10])"
   ]
  },
  {
   "cell_type": "code",
   "execution_count": 6,
   "metadata": {},
   "outputs": [],
   "source": [
    "# Q2\n",
    "def numsdistint(nums1,nums2):\n",
    "    num1=[]\n",
    "    num2=[]\n",
    "    for i in nums1:\n",
    "        if i not in nums2:\n",
    "            num1.append(i)\n",
    "    for i in nums2:\n",
    "        if i not in nums1:\n",
    "            num2.append(i)\n",
    "    return [num1,num2]"
   ]
  },
  {
   "cell_type": "code",
   "execution_count": 7,
   "metadata": {},
   "outputs": [
    {
     "data": {
      "text/plain": [
       "[[1, 3], [4, 6]]"
      ]
     },
     "execution_count": 7,
     "metadata": {},
     "output_type": "execute_result"
    }
   ],
   "source": [
    "numsdistint([1,2,3],[2,4,6])"
   ]
  },
  {
   "cell_type": "code",
   "execution_count": 18,
   "metadata": {},
   "outputs": [],
   "source": [
    "# Q3\n",
    "def transmatrix(matrix):\n",
    "    a=[]\n",
    "    b=[]\n",
    "    k=0\n",
    "    while k<len(matrix[0]):\n",
    "        for i in matrix:\n",
    "            b.append(i[k])  \n",
    "        a.append(b)\n",
    "        b=[]\n",
    "        k+=1\n",
    "    return a\n",
    "        "
   ]
  },
  {
   "cell_type": "code",
   "execution_count": 19,
   "metadata": {},
   "outputs": [
    {
     "data": {
      "text/plain": [
       "[[1, 3, 5, 7], [2, 4, 6, 8], [3, 5, 7, 9]]"
      ]
     },
     "execution_count": 19,
     "metadata": {},
     "output_type": "execute_result"
    }
   ],
   "source": [
    "transmatrix([[1,2,3],[3,4,5],[5,6,7],[7,8,9]])"
   ]
  },
  {
   "cell_type": "code",
   "execution_count": 26,
   "metadata": {},
   "outputs": [],
   "source": [
    "# Q4\n",
    "def nums(l):\n",
    "    a=[]\n",
    "    b=0\n",
    "    for i in range(len(l)):\n",
    "        for j in range(i+1,len(l)):\n",
    "            if l[i]<=l[j]:\n",
    "                l[i],l[j]=l[j],l[i]\n",
    "    for i in range(0,len(l)-1,2):\n",
    "        a.append(l[i+1])\n",
    "    for i in a:\n",
    "        b+=i\n",
    "    return b"
   ]
  },
  {
   "cell_type": "code",
   "execution_count": 27,
   "metadata": {},
   "outputs": [
    {
     "data": {
      "text/plain": [
       "7"
      ]
     },
     "execution_count": 27,
     "metadata": {},
     "output_type": "execute_result"
    }
   ],
   "source": [
    "nums([1,2,5,3,6])"
   ]
  },
  {
   "cell_type": "code",
   "execution_count": 28,
   "metadata": {},
   "outputs": [],
   "source": [
    "# Q5\n",
    "def staircase(n):\n",
    "    a=0\n",
    "    for i in range(1,n):\n",
    "        a+=i\n",
    "        if a>n:\n",
    "            a-=i+1\n",
    "            break\n",
    "    return a"
   ]
  },
  {
   "cell_type": "code",
   "execution_count": 29,
   "metadata": {},
   "outputs": [
    {
     "data": {
      "text/plain": [
       "2"
      ]
     },
     "execution_count": 29,
     "metadata": {},
     "output_type": "execute_result"
    }
   ],
   "source": [
    "staircase(5)"
   ]
  },
  {
   "cell_type": "code",
   "execution_count": 30,
   "metadata": {},
   "outputs": [],
   "source": [
    "# Q6\n",
    "def nums(l):\n",
    "    l=[i**2 for i in l]\n",
    "    for i in range(len(l)):\n",
    "        for j in range(i+1,len(l)):\n",
    "            if l[i]>=l[j]:\n",
    "                l[i],l[j]=l[j],l[i]\n",
    "    return l"
   ]
  },
  {
   "cell_type": "code",
   "execution_count": 31,
   "metadata": {},
   "outputs": [
    {
     "data": {
      "text/plain": [
       "[0, 1, 9, 16, 100]"
      ]
     },
     "execution_count": 31,
     "metadata": {},
     "output_type": "execute_result"
    }
   ],
   "source": [
    "nums([-4,-1,0,3,10])"
   ]
  },
  {
   "cell_type": "code",
   "execution_count": 89,
   "metadata": {},
   "outputs": [],
   "source": [
    "# Q7\n",
    "def matrix(m,n,ops):\n",
    "    a=[]\n",
    "    b=[]\n",
    "    d=[]\n",
    "    f=[]\n",
    "    for i in range(m):\n",
    "        a.append(0)\n",
    "    for i in range(n):\n",
    "        b.append(a)\n",
    "    for i in ops:\n",
    "        e=[]\n",
    "        c=[]\n",
    "        for r in range(i[0]):\n",
    "            e.append(1)\n",
    "        for r in range(i[1]):\n",
    "            c.append(e)\n",
    "        d.append(c)\n",
    "    d.append(b)\n",
    "    for i in d:\n",
    "        f.append(len(i))\n",
    "    f=(min(f))*(len(d)-1)\n",
    "    return f"
   ]
  },
  {
   "cell_type": "code",
   "execution_count": 91,
   "metadata": {},
   "outputs": [
    {
     "data": {
      "text/plain": [
       "6"
      ]
     },
     "execution_count": 91,
     "metadata": {},
     "output_type": "execute_result"
    }
   ],
   "source": [
    "matrix(3,3,[[2,3],[3,3]])"
   ]
  },
  {
   "cell_type": "code",
   "execution_count": 92,
   "metadata": {},
   "outputs": [],
   "source": [
    "# Q8\n",
    "def array_nums(nums):\n",
    "    a=[]\n",
    "    for i in range(len(nums)//2):\n",
    "        a.append(nums[i])\n",
    "        a.append(nums[i+len(nums)//2])\n",
    "    return a"
   ]
  },
  {
   "cell_type": "code",
   "execution_count": 93,
   "metadata": {},
   "outputs": [
    {
     "data": {
      "text/plain": [
       "[1, 4, 2, 5, 3, 6]"
      ]
     },
     "execution_count": 93,
     "metadata": {},
     "output_type": "execute_result"
    }
   ],
   "source": [
    "array_nums([1,2,3,4,5,6])"
   ]
  },
  {
   "cell_type": "code",
   "execution_count": null,
   "metadata": {},
   "outputs": [],
   "source": []
  }
 ],
 "metadata": {
  "kernelspec": {
   "display_name": "Python 3",
   "language": "python",
   "name": "python3"
  },
  "language_info": {
   "codemirror_mode": {
    "name": "ipython",
    "version": 3
   },
   "file_extension": ".py",
   "mimetype": "text/x-python",
   "name": "python",
   "nbconvert_exporter": "python",
   "pygments_lexer": "ipython3",
   "version": "3.10.7"
  },
  "orig_nbformat": 4
 },
 "nbformat": 4,
 "nbformat_minor": 2
}
