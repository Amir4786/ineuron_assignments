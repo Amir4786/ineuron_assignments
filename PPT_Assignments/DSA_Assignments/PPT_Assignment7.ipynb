{
 "cells": [
  {
   "cell_type": "code",
   "execution_count": 35,
   "metadata": {},
   "outputs": [],
   "source": [
    "# Q1\n",
    "def isomor(s,t):\n",
    "    d={}\n",
    "    e={}\n",
    "    a=''\n",
    "    b=''\n",
    "    for i in range(len(s)):\n",
    "        if s[i] not in d:\n",
    "            d[s[i]]=t[i]\n",
    "            e[t[i]]=s[i]\n",
    "    \n",
    "    for k,v in d.items():\n",
    "        for i in range(len(s)):\n",
    "            if s[i]==k:\n",
    "                a+=v\n",
    "    for k,v in e.items():\n",
    "        for i in range(len(t)):\n",
    "            if t[i]==k:\n",
    "                b+=v\n",
    "    if a==t and b==s:\n",
    "        return True\n",
    "    else:\n",
    "        return False"
   ]
  },
  {
   "cell_type": "code",
   "execution_count": 38,
   "metadata": {},
   "outputs": [
    {
     "data": {
      "text/plain": [
       "True"
      ]
     },
     "execution_count": 38,
     "metadata": {},
     "output_type": "execute_result"
    }
   ],
   "source": [
    "isomor(\"add\",\"egg\")"
   ]
  },
  {
   "cell_type": "code",
   "execution_count": 92,
   "metadata": {},
   "outputs": [],
   "source": [
    "# Q2\n",
    "def stabogramatic(n):\n",
    "    stab={0:0,6:9,8:8,9:6}\n",
    "    count=n\n",
    "    a=[]\n",
    "    b=[]\n",
    "    c=0\n",
    "    while count>0:\n",
    "        digit=count%10\n",
    "        if digit in stab:\n",
    "            a.append(stab[digit])\n",
    "        else:\n",
    "            a.append(digit)\n",
    "        count=count//10\n",
    "    # a=a[::-1]\n",
    "    for i in range(len(a),0,-1):\n",
    "        b.append(10**(i-1))\n",
    "\n",
    "    for i in range(len(b)):\n",
    "        c+=a[i]*b[i]\n",
    "    if c==n:\n",
    "        return True\n",
    "    else:\n",
    "        return False\n",
    " "
   ]
  },
  {
   "cell_type": "code",
   "execution_count": 94,
   "metadata": {},
   "outputs": [
    {
     "data": {
      "text/plain": [
       "True"
      ]
     },
     "execution_count": 94,
     "metadata": {},
     "output_type": "execute_result"
    }
   ],
   "source": [
    "stabogramatic(69)"
   ]
  },
  {
   "cell_type": "code",
   "execution_count": 95,
   "metadata": {},
   "outputs": [],
   "source": [
    "# Q3\n",
    "def sum_int(num1,num2):\n",
    "    num1=int(num1)\n",
    "    num2=int(num2)\n",
    "    return num1+num2"
   ]
  },
  {
   "cell_type": "code",
   "execution_count": 97,
   "metadata": {},
   "outputs": [
    {
     "data": {
      "text/plain": [
       "134"
      ]
     },
     "execution_count": 97,
     "metadata": {},
     "output_type": "execute_result"
    }
   ],
   "source": [
    "sum_int(\"11\",\"123\")"
   ]
  },
  {
   "cell_type": "code",
   "execution_count": 108,
   "metadata": {},
   "outputs": [],
   "source": [
    "# Q4\n",
    "def reverse(s):\n",
    "    l=s.split()\n",
    "    for i in range(len(l)):\n",
    "        l[i]=l[i][::-1]\n",
    "    b=\" \".join(l)\n",
    "    return b"
   ]
  },
  {
   "cell_type": "code",
   "execution_count": 109,
   "metadata": {},
   "outputs": [
    {
     "data": {
      "text/plain": [
       "'olleh ym eman si elgoog'"
      ]
     },
     "execution_count": 109,
     "metadata": {},
     "output_type": "execute_result"
    }
   ],
   "source": [
    "reverse(\"hello my name is google\")"
   ]
  },
  {
   "cell_type": "code",
   "execution_count": 173,
   "metadata": {},
   "outputs": [],
   "source": [
    "# Q5\n",
    "def reverse2(s,k):\n",
    "    a=[]\n",
    "    for i in s:\n",
    "        a.append(i)\n",
    "    for i in range(len(a)-1):\n",
    "        if i%k==0 and i<2*k:\n",
    "            a[i],a[k]=a[k],a[i]\n",
    "        elif i%k==0 and i>=2*k and i<len(a)-1:\n",
    "            a[i],a[i+1]=a[i+1],a[i]\n",
    "    a=\"\".join(a)\n",
    "    return a"
   ]
  },
  {
   "cell_type": "code",
   "execution_count": 174,
   "metadata": {},
   "outputs": [
    {
     "data": {
      "text/plain": [
       "'cbadfeg'"
      ]
     },
     "execution_count": 174,
     "metadata": {},
     "output_type": "execute_result"
    }
   ],
   "source": [
    "reverse2(\"abcdefg\",2)"
   ]
  },
  {
   "cell_type": "code",
   "execution_count": 185,
   "metadata": {},
   "outputs": [],
   "source": [
    "# Q6\n",
    "def shift(s,goal):\n",
    "    count=0\n",
    "    for i in range(len(s)):\n",
    "        a= s[i:]+s[:i]\n",
    "        if a==goal:\n",
    "            count+=1\n",
    "    if count>=1:\n",
    "        return True\n",
    "    else:\n",
    "        return False"
   ]
  },
  {
   "cell_type": "code",
   "execution_count": 188,
   "metadata": {},
   "outputs": [
    {
     "data": {
      "text/plain": [
       "True"
      ]
     },
     "execution_count": 188,
     "metadata": {},
     "output_type": "execute_result"
    }
   ],
   "source": [
    "shift(\"abcde\",\"cdeab\")"
   ]
  },
  {
   "cell_type": "code",
   "execution_count": 220,
   "metadata": {},
   "outputs": [],
   "source": [
    "# Q7\n",
    "def hash(s,t):\n",
    "    a=[]\n",
    "    b=[]\n",
    "    for i in range(len(s)):\n",
    "\n",
    "        if s[i]==\"#\":\n",
    "            a.remove(a[-1])\n",
    "        else:\n",
    "            a.append(s[i])\n",
    "        if t[i]==\"#\":\n",
    "            b.remove(b[-1])\n",
    "        else:\n",
    "            b.append(t[i])\n",
    "    a=\"\".join(a)\n",
    "    b=\"\".join(b)\n",
    "    if a==b:\n",
    "        return True\n",
    "    else:\n",
    "        return False"
   ]
  },
  {
   "cell_type": "code",
   "execution_count": 222,
   "metadata": {},
   "outputs": [
    {
     "data": {
      "text/plain": [
       "True"
      ]
     },
     "execution_count": 222,
     "metadata": {},
     "output_type": "execute_result"
    }
   ],
   "source": [
    "hash(\"ab#c\",\"ad#c\")"
   ]
  },
  {
   "cell_type": "code",
   "execution_count": 223,
   "metadata": {},
   "outputs": [],
   "source": [
    "# Q8\n",
    "def stright_line(coordinates):\n",
    "    count=0\n",
    "    first_point=coordinates[0]\n",
    "    second_point=coordinates[1]\n",
    "    slope=(second_point[1]-first_point[1])/(second_point[0]-first_point[0])\n",
    "    for points in range(len(coordinates)-1):\n",
    "        first_point=coordinates[points]\n",
    "        second_point=coordinates[points+1]\n",
    "        slope2=(second_point[1]-first_point[1])/(second_point[0]-first_point[0])\n",
    "        if slope==slope2:\n",
    "            count+=1\n",
    "    if count==len(coordinates)-1:\n",
    "        return True\n",
    "    else:\n",
    "        return False"
   ]
  },
  {
   "cell_type": "code",
   "execution_count": 228,
   "metadata": {},
   "outputs": [
    {
     "data": {
      "text/plain": [
       "True"
      ]
     },
     "execution_count": 228,
     "metadata": {},
     "output_type": "execute_result"
    }
   ],
   "source": [
    "stright_line([[1,2],[2,3],[3,4],[4,5],[5,6],[6,7]])"
   ]
  },
  {
   "cell_type": "code",
   "execution_count": null,
   "metadata": {},
   "outputs": [],
   "source": []
  },
  {
   "cell_type": "code",
   "execution_count": null,
   "metadata": {},
   "outputs": [],
   "source": []
  }
 ],
 "metadata": {
  "kernelspec": {
   "display_name": "Python 3",
   "language": "python",
   "name": "python3"
  },
  "language_info": {
   "codemirror_mode": {
    "name": "ipython",
    "version": 3
   },
   "file_extension": ".py",
   "mimetype": "text/x-python",
   "name": "python",
   "nbconvert_exporter": "python",
   "pygments_lexer": "ipython3",
   "version": "3.10.7"
  },
  "orig_nbformat": 4
 },
 "nbformat": 4,
 "nbformat_minor": 2
}
