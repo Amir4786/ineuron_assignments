{
 "cells": [
  {
   "cell_type": "code",
   "execution_count": 57,
   "id": "2ad509dd",
   "metadata": {},
   "outputs": [],
   "source": [
    "## Q1\n",
    "def nums(l):\n",
    "    a=[]\n",
    "    c=0\n",
    "    for i in range(len(l)):\n",
    "        for j in range(i+1,len(l)):\n",
    "            if l[i]<=l[j]:\n",
    "                l[i],l[j]=l[j],l[i]\n",
    "    for i in range(0,len(l),2):\n",
    "        b=l[i],l[i+1]\n",
    "        a.append(b)\n",
    "    for i in a:\n",
    "        c+=i[1]\n",
    "    return c"
   ]
  },
  {
   "cell_type": "code",
   "execution_count": 58,
   "id": "a7fa4186",
   "metadata": {},
   "outputs": [
    {
     "data": {
      "text/plain": [
       "4"
      ]
     },
     "execution_count": 58,
     "metadata": {},
     "output_type": "execute_result"
    }
   ],
   "source": [
    "nums([1,2,3,4])"
   ]
  },
  {
   "cell_type": "code",
   "execution_count": 59,
   "id": "9278d979",
   "metadata": {},
   "outputs": [
    {
     "data": {
      "text/plain": [
       "11"
      ]
     },
     "execution_count": 59,
     "metadata": {},
     "output_type": "execute_result"
    }
   ],
   "source": [
    "nums([1,2,3,4,8,7])"
   ]
  },
  {
   "cell_type": "code",
   "execution_count": 60,
   "id": "031bddc1",
   "metadata": {},
   "outputs": [],
   "source": [
    "# Q2\n",
    "def candyType(candies):\n",
    "    candy=[]\n",
    "    for i in candies:\n",
    "        if i not in candy:\n",
    "            candy.append(i)\n",
    "    if len(candies)<=2*len(candy):\n",
    "        return len(candies)//2\n",
    "    else:\n",
    "        return len(candy)"
   ]
  },
  {
   "cell_type": "code",
   "execution_count": 61,
   "id": "2b2b91ee",
   "metadata": {},
   "outputs": [
    {
     "data": {
      "text/plain": [
       "3"
      ]
     },
     "execution_count": 61,
     "metadata": {},
     "output_type": "execute_result"
    }
   ],
   "source": [
    "candyType([1,1,2,2,3,3])"
   ]
  },
  {
   "cell_type": "code",
   "execution_count": 62,
   "id": "01e96424",
   "metadata": {},
   "outputs": [
    {
     "data": {
      "text/plain": [
       "4"
      ]
     },
     "execution_count": 62,
     "metadata": {},
     "output_type": "execute_result"
    }
   ],
   "source": [
    "candyType([1,1,2,2,3,3,4,5])"
   ]
  },
  {
   "cell_type": "code",
   "execution_count": 75,
   "id": "ae9861de",
   "metadata": {},
   "outputs": [],
   "source": [
    "# Q3\n",
    "def nums2(l):\n",
    "    a=[]\n",
    "    for i in range(len(l)):\n",
    "        if l[i]==l[len(l)-i-1]:\n",
    "            a.append(l[i])\n",
    "    if max(a)-min(a)==1:\n",
    "        return len(a)"
   ]
  },
  {
   "cell_type": "code",
   "execution_count": 76,
   "id": "da077b5b",
   "metadata": {},
   "outputs": [
    {
     "data": {
      "text/plain": [
       "4"
      ]
     },
     "execution_count": 76,
     "metadata": {},
     "output_type": "execute_result"
    }
   ],
   "source": [
    "nums2([1,3,2,2,5,2,3,7])"
   ]
  },
  {
   "cell_type": "code",
   "execution_count": 94,
   "id": "c88a5298",
   "metadata": {},
   "outputs": [],
   "source": [
    "# Q4\n",
    "def flowerbed(l,n):\n",
    "    a=0\n",
    "    for i in range(len(l)):\n",
    "        for j in range(i+1,len(l)):\n",
    "            if (l[i]==(1 | 0) & l[j]==0):\n",
    "                a+=1\n",
    "                \n",
    "    if n==a//2:\n",
    "        return True\n",
    "    else:\n",
    "        return False"
   ]
  },
  {
   "cell_type": "code",
   "execution_count": 96,
   "id": "0488e760",
   "metadata": {},
   "outputs": [
    {
     "data": {
      "text/plain": [
       "True"
      ]
     },
     "execution_count": 96,
     "metadata": {},
     "output_type": "execute_result"
    }
   ],
   "source": [
    "flowerbed([1,0,0,0,1],1)"
   ]
  },
  {
   "cell_type": "code",
   "execution_count": 99,
   "id": "238cf3df",
   "metadata": {},
   "outputs": [],
   "source": [
    "# Q5\n",
    "def nums3(l):\n",
    "    for i in range(len(l)):\n",
    "        for j in range(i+1,len(l)):\n",
    "            if l[i]>=l[j]:\n",
    "                l[i],l[j]=l[j],l[i]\n",
    "    return l[-1]*l[-2]*l[-3]"
   ]
  },
  {
   "cell_type": "code",
   "execution_count": 102,
   "id": "b13d8852",
   "metadata": {},
   "outputs": [
    {
     "data": {
      "text/plain": [
       "60"
      ]
     },
     "execution_count": 102,
     "metadata": {},
     "output_type": "execute_result"
    }
   ],
   "source": [
    "nums3([1,2,6,5])"
   ]
  },
  {
   "cell_type": "code",
   "execution_count": 112,
   "id": "4a80ac5b",
   "metadata": {},
   "outputs": [],
   "source": [
    "# Q6\n",
    "def nums4(l,target):\n",
    "    a=[]\n",
    "    for i in range(len(l)):\n",
    "        if l[i]==target:\n",
    "            a.append(i)\n",
    "    if len(a)>0:\n",
    "        return a[0]\n",
    "    else:\n",
    "        return -1"
   ]
  },
  {
   "cell_type": "code",
   "execution_count": 115,
   "id": "9f03571c",
   "metadata": {},
   "outputs": [
    {
     "data": {
      "text/plain": [
       "4"
      ]
     },
     "execution_count": 115,
     "metadata": {},
     "output_type": "execute_result"
    }
   ],
   "source": [
    "nums4([-1,0,3,5,9,12],9)"
   ]
  },
  {
   "cell_type": "code",
   "execution_count": 129,
   "id": "880f0904",
   "metadata": {},
   "outputs": [],
   "source": [
    "# Q7\n",
    "def monotonic(nums):\n",
    "    from copy import copy\n",
    "    a=nums.copy()\n",
    "    for i in range(len(nums)):\n",
    "        for j in range(i+1,len(nums)):\n",
    "            if nums[i]>=nums[j]:\n",
    "                nums[i],nums[j]=nums[j],nums[i]\n",
    "    if a==nums or a==nums[::-1]:\n",
    "        return True\n",
    "    else:\n",
    "        return False"
   ]
  },
  {
   "cell_type": "code",
   "execution_count": 131,
   "id": "20b9cfd4",
   "metadata": {},
   "outputs": [
    {
     "data": {
      "text/plain": [
       "True"
      ]
     },
     "execution_count": 131,
     "metadata": {},
     "output_type": "execute_result"
    }
   ],
   "source": [
    "monotonic([1,2,2,3])"
   ]
  },
  {
   "cell_type": "code",
   "execution_count": 137,
   "id": "7588345b",
   "metadata": {},
   "outputs": [],
   "source": [
    "# Q8\n",
    "def numsk(nums,k):\n",
    "    for i in range(len(nums)):\n",
    "        nums[i]=nums[i]+k//2\n",
    "    for i in range(len(nums)):\n",
    "        for j in range(i+1,len(nums)):\n",
    "            if nums[i]>=nums[j]:\n",
    "                nums[i],nums[j]=nums[j],nums[i]\n",
    "    return nums[-1]-nums[0]"
   ]
  },
  {
   "cell_type": "code",
   "execution_count": 138,
   "id": "d0fdc587",
   "metadata": {},
   "outputs": [
    {
     "data": {
      "text/plain": [
       "4"
      ]
     },
     "execution_count": 138,
     "metadata": {},
     "output_type": "execute_result"
    }
   ],
   "source": [
    "numsk([1,2,5,3,4],4)"
   ]
  },
  {
   "cell_type": "code",
   "execution_count": null,
   "id": "5f615815",
   "metadata": {},
   "outputs": [],
   "source": []
  }
 ],
 "metadata": {
  "kernelspec": {
   "display_name": "Python 3",
   "language": "python",
   "name": "python3"
  },
  "language_info": {
   "codemirror_mode": {
    "name": "ipython",
    "version": 3
   },
   "file_extension": ".py",
   "mimetype": "text/x-python",
   "name": "python",
   "nbconvert_exporter": "python",
   "pygments_lexer": "ipython3",
   "version": "3.9.13"
  }
 },
 "nbformat": 4,
 "nbformat_minor": 5
}
