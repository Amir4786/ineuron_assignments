{
 "cells": [
  {
   "cell_type": "code",
   "execution_count": 1,
   "metadata": {},
   "outputs": [],
   "source": [
    "# Q1\n",
    "def sum_nums(nums,target):\n",
    "    a=[]\n",
    "    b={}\n",
    "    c=[]\n",
    "    for i in range(len(nums)):\n",
    "        for j in range(i+1,len(nums)):\n",
    "            for k in range(j+1,len(nums)):\n",
    "                a.append((nums[i]+nums[j]+nums[k]))\n",
    "    \n",
    "    for i in a:\n",
    "        b[i]=((target-i)**2)**0.5\n",
    "    for k,v in b.items():\n",
    "        c.append(v)\n",
    "    for i in range(len(c)):\n",
    "        for j in range(i+1,len(c)):\n",
    "            if c[i]>=c[j]:\n",
    "                c[i],c[j]=c[j],c[i]\n",
    "    for k,v in b.items():\n",
    "        if v==c[0]:\n",
    "            return k"
   ]
  },
  {
   "cell_type": "code",
   "execution_count": 2,
   "metadata": {},
   "outputs": [
    {
     "data": {
      "text/plain": [
       "2"
      ]
     },
     "execution_count": 2,
     "metadata": {},
     "output_type": "execute_result"
    }
   ],
   "source": [
    "sum_nums([-1,2,1,-4],1)"
   ]
  },
  {
   "cell_type": "code",
   "execution_count": 3,
   "metadata": {},
   "outputs": [],
   "source": [
    "# Q2\n",
    "def quadruplets(nums,target):\n",
    "    a=[]\n",
    "    for i in range(len(nums)):\n",
    "        for j in range(i+1,len(nums)):\n",
    "            for k in range(j+1,len(nums)):\n",
    "                for l in range(k+1,len(nums)):\n",
    "                    if nums[i]+nums[j]+nums[k]+nums[l]==target:\n",
    "                        a.append([nums[i],nums[j],nums[k],nums[l]])\n",
    "    return a"
   ]
  },
  {
   "cell_type": "code",
   "execution_count": 4,
   "metadata": {},
   "outputs": [
    {
     "data": {
      "text/plain": [
       "[[1, 0, -1, 0], [1, -1, -2, 2], [0, 0, -2, 2]]"
      ]
     },
     "execution_count": 4,
     "metadata": {},
     "output_type": "execute_result"
    }
   ],
   "source": [
    "quadruplets([1,0,-1,0,-2,2],0)"
   ]
  },
  {
   "cell_type": "code",
   "execution_count": 180,
   "metadata": {},
   "outputs": [],
   "source": [
    "# Q3\n",
    "def sorted_array(arr):\n",
    "    import copy\n",
    "    a=arr.copy()\n",
    "    perm=[]\n",
    "    if len(arr)==0: return []\n",
    "    elif len(arr)==1: return arr\n",
    "    else:\n",
    "        for i in range(len(arr)):\n",
    "            for j in range(i+1,len(arr)):\n",
    "                if arr[i]>=arr[j]:\n",
    "                    arr[i],arr[j]=arr[j],arr[i]\n",
    "        import itertools\n",
    "        perm.append(list(itertools.permutations(arr)))\n",
    "    for i in range(len(perm[0])):\n",
    "        if perm[0][i]==tuple(a):\n",
    "            if i==len(perm):\n",
    "                return list(perm[0][0])   \n",
    "            else:\n",
    "                return list(perm[0][i+1])"
   ]
  },
  {
   "cell_type": "code",
   "execution_count": 181,
   "metadata": {},
   "outputs": [
    {
     "data": {
      "text/plain": [
       "[3, 1, 2]"
      ]
     },
     "execution_count": 181,
     "metadata": {},
     "output_type": "execute_result"
    }
   ],
   "source": [
    "sorted_array([2,3,1])"
   ]
  },
  {
   "cell_type": "code",
   "execution_count": 135,
   "metadata": {},
   "outputs": [],
   "source": [
    "# Q4\n",
    "def index(nums,target):\n",
    "    for i in range(len(nums)):\n",
    "        if nums[i]==target:\n",
    "            return i"
   ]
  },
  {
   "cell_type": "code",
   "execution_count": 136,
   "metadata": {},
   "outputs": [
    {
     "data": {
      "text/plain": [
       "3"
      ]
     },
     "execution_count": 136,
     "metadata": {},
     "output_type": "execute_result"
    }
   ],
   "source": [
    "index([1,2,3,5,6,7],5)"
   ]
  },
  {
   "cell_type": "code",
   "execution_count": 137,
   "metadata": {},
   "outputs": [],
   "source": [
    "# Q5\n",
    "def digits(l):\n",
    "    a=0\n",
    "    b=[]\n",
    "    l1=len(l)-1\n",
    "    for i in l:\n",
    "        a+=i*(10**l1)\n",
    "        l1-=1\n",
    "    a=a+1\n",
    "    while a>0:\n",
    "        digit=a%10\n",
    "        b.append(digit)\n",
    "        a=a//10\n",
    "    return b[::-1]"
   ]
  },
  {
   "cell_type": "code",
   "execution_count": 139,
   "metadata": {},
   "outputs": [
    {
     "data": {
      "text/plain": [
       "[1, 2, 4]"
      ]
     },
     "execution_count": 139,
     "metadata": {},
     "output_type": "execute_result"
    }
   ],
   "source": [
    "digits([1,2,3])"
   ]
  },
  {
   "cell_type": "code",
   "execution_count": 142,
   "metadata": {},
   "outputs": [],
   "source": [
    "# Q6\n",
    "def single_one(nums):\n",
    "    a={}\n",
    "    for i in nums:\n",
    "        if i not in a:\n",
    "            a[i]=1\n",
    "        else:\n",
    "            a[i]+=1\n",
    "    for k,v in a.items():\n",
    "        if v==1:\n",
    "            return k"
   ]
  },
  {
   "cell_type": "code",
   "execution_count": 143,
   "metadata": {},
   "outputs": [
    {
     "data": {
      "text/plain": [
       "1"
      ]
     },
     "execution_count": 143,
     "metadata": {},
     "output_type": "execute_result"
    }
   ],
   "source": [
    "single_one([2,2,1])"
   ]
  },
  {
   "cell_type": "code",
   "execution_count": 198,
   "metadata": {},
   "outputs": [],
   "source": [
    "# Q7\n",
    "def range_list(nums,lower,upper):\n",
    "    a=[lower]+nums+[upper+1]\n",
    "    b=[]\n",
    "    for i in range(len(a)-1):\n",
    "        if a[i+1]==a[i]:\n",
    "            pass\n",
    "        elif a[i+1]!=a[i]+1:\n",
    "            b.append([a[i]+1,a[i+1]-1])\n",
    "        else:\n",
    "            pass\n",
    "    return b\n"
   ]
  },
  {
   "cell_type": "code",
   "execution_count": 200,
   "metadata": {},
   "outputs": [
    {
     "data": {
      "text/plain": [
       "[[2, 2], [4, 49], [51, 74], [76, 99]]"
      ]
     },
     "execution_count": 200,
     "metadata": {},
     "output_type": "execute_result"
    }
   ],
   "source": [
    "range_list([0,1,3,50,75],0,99)"
   ]
  },
  {
   "cell_type": "code",
   "execution_count": 201,
   "metadata": {},
   "outputs": [],
   "source": [
    "# Q8\n",
    "def intervals(meet_inter):\n",
    "    a=0\n",
    "    for i in range(len(meet_inter)-1):\n",
    "        if meet_inter[i][1]<=meet_inter[i+1][i]:\n",
    "            a+=1\n",
    "    if a==len(meet_inter)-1:\n",
    "        return True\n",
    "    else:\n",
    "        return False"
   ]
  },
  {
   "cell_type": "code",
   "execution_count": 206,
   "metadata": {},
   "outputs": [
    {
     "data": {
      "text/plain": [
       "False"
      ]
     },
     "execution_count": 206,
     "metadata": {},
     "output_type": "execute_result"
    }
   ],
   "source": [
    "intervals([[0,30],[5,10],[15,20]])"
   ]
  },
  {
   "cell_type": "code",
   "execution_count": null,
   "metadata": {},
   "outputs": [],
   "source": []
  }
 ],
 "metadata": {
  "kernelspec": {
   "display_name": "Python 3",
   "language": "python",
   "name": "python3"
  },
  "language_info": {
   "codemirror_mode": {
    "name": "ipython",
    "version": 3
   },
   "file_extension": ".py",
   "mimetype": "text/x-python",
   "name": "python",
   "nbconvert_exporter": "python",
   "pygments_lexer": "ipython3",
   "version": "3.10.7"
  },
  "orig_nbformat": 4
 },
 "nbformat": 4,
 "nbformat_minor": 2
}
