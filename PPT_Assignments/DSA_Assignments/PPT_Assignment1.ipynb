{
 "cells": [
  {
   "cell_type": "code",
   "execution_count": 2,
   "id": "91a707d7",
   "metadata": {},
   "outputs": [],
   "source": [
    "## Q1\n",
    "def numtar(num,target):\n",
    "    a=[]\n",
    "    for i in range(len(num)):\n",
    "        for j in range(i,len(num)):\n",
    "            if num[i]+num[j]==target:\n",
    "                a.append(i)\n",
    "                a.append(j)\n",
    "    return a"
   ]
  },
  {
   "cell_type": "code",
   "execution_count": 3,
   "id": "c3cac644",
   "metadata": {},
   "outputs": [
    {
     "data": {
      "text/plain": [
       "[0, 1]"
      ]
     },
     "execution_count": 3,
     "metadata": {},
     "output_type": "execute_result"
    }
   ],
   "source": [
    "numtar([2,7,11,15],9)"
   ]
  },
  {
   "cell_type": "code",
   "execution_count": 4,
   "id": "31d2dbe2",
   "metadata": {},
   "outputs": [],
   "source": [
    "## Q2\n",
    "def numval(num,val):\n",
    "    a=[]\n",
    "    for i in num:\n",
    "        if i==val:\n",
    "            pass\n",
    "        else:\n",
    "            a.append(i)\n",
    "    return a"
   ]
  },
  {
   "cell_type": "code",
   "execution_count": 5,
   "id": "4ef84ecd",
   "metadata": {},
   "outputs": [
    {
     "data": {
      "text/plain": [
       "[2, 2]"
      ]
     },
     "execution_count": 5,
     "metadata": {},
     "output_type": "execute_result"
    }
   ],
   "source": [
    "numval([3,2,2,3],3)"
   ]
  },
  {
   "cell_type": "code",
   "execution_count": 17,
   "id": "372089d2",
   "metadata": {},
   "outputs": [],
   "source": [
    "# Q3\n",
    "def numtar2(num,target):\n",
    "    for i in range(len(num)):\n",
    "        for j in range(i,len(num)):\n",
    "            if num[i]>=num[j]:\n",
    "                num[i],num[j]=num[j],num[i]\n",
    "    for i in range(len(num)):\n",
    "        if num[i]==target:\n",
    "            return i"
   ]
  },
  {
   "cell_type": "code",
   "execution_count": 19,
   "id": "c93e17a7",
   "metadata": {},
   "outputs": [
    {
     "data": {
      "text/plain": [
       "4"
      ]
     },
     "execution_count": 19,
     "metadata": {},
     "output_type": "execute_result"
    }
   ],
   "source": [
    "numtar2([1,6,3,2,0],6)"
   ]
  },
  {
   "cell_type": "code",
   "execution_count": 20,
   "id": "12ab2d16",
   "metadata": {},
   "outputs": [
    {
     "data": {
      "text/plain": [
       "2"
      ]
     },
     "execution_count": 20,
     "metadata": {},
     "output_type": "execute_result"
    }
   ],
   "source": [
    "numtar2([1,3,5,6],5)"
   ]
  },
  {
   "cell_type": "code",
   "execution_count": 33,
   "id": "76016eca",
   "metadata": {},
   "outputs": [],
   "source": [
    "# Q4\n",
    "def digits(l):\n",
    "    a=0\n",
    "    b=[]\n",
    "    l1=len(l)-1\n",
    "    for i in l:\n",
    "        a+=i*(10**l1)\n",
    "        l1-=1\n",
    "    a=a+1\n",
    "    while a>0:\n",
    "        digit=a%10\n",
    "        b.append(digit)\n",
    "        a=a//10\n",
    "    return b[::-1]"
   ]
  },
  {
   "cell_type": "code",
   "execution_count": 34,
   "id": "3615efe0",
   "metadata": {},
   "outputs": [
    {
     "data": {
      "text/plain": [
       "[1, 2, 4]"
      ]
     },
     "execution_count": 34,
     "metadata": {},
     "output_type": "execute_result"
    }
   ],
   "source": [
    "digits([1,2,3])"
   ]
  },
  {
   "cell_type": "code",
   "execution_count": 37,
   "id": "7b93a3dd",
   "metadata": {},
   "outputs": [],
   "source": [
    "# Q5\n",
    "def numsmn(num1,m,num2,n):\n",
    "    a=[]\n",
    "    if len(num1)==m+n:\n",
    "        a=num1[:m]+num2\n",
    "    for i in range(len(a)):\n",
    "        for j in range(i,len(a)):\n",
    "            if a[i]>=a[j]:\n",
    "                a[i],a[j]=a[j],a[i]\n",
    "    return a"
   ]
  },
  {
   "cell_type": "code",
   "execution_count": 38,
   "id": "bbab1d02",
   "metadata": {},
   "outputs": [
    {
     "data": {
      "text/plain": [
       "[1, 2, 2, 3, 5, 6]"
      ]
     },
     "execution_count": 38,
     "metadata": {},
     "output_type": "execute_result"
    }
   ],
   "source": [
    "numsmn([1,2,3,0,0,0],3,[2,5,6],3)"
   ]
  },
  {
   "cell_type": "code",
   "execution_count": 42,
   "id": "04ee3e9b",
   "metadata": {},
   "outputs": [],
   "source": [
    "# Q6\n",
    "def common(l):\n",
    "    a=[]\n",
    "    for i in l:\n",
    "        if i not in a:\n",
    "            a.append(i)\n",
    "    if len(a)==len(l):\n",
    "        return False\n",
    "    else:\n",
    "        return True"
   ]
  },
  {
   "cell_type": "code",
   "execution_count": 43,
   "id": "e5d954cf",
   "metadata": {},
   "outputs": [
    {
     "data": {
      "text/plain": [
       "False"
      ]
     },
     "execution_count": 43,
     "metadata": {},
     "output_type": "execute_result"
    }
   ],
   "source": [
    "common([1,2,3,4])"
   ]
  },
  {
   "cell_type": "code",
   "execution_count": 44,
   "id": "43fe8b8e",
   "metadata": {},
   "outputs": [
    {
     "data": {
      "text/plain": [
       "True"
      ]
     },
     "execution_count": 44,
     "metadata": {},
     "output_type": "execute_result"
    }
   ],
   "source": [
    "common([1,2,3,1])"
   ]
  },
  {
   "cell_type": "code",
   "execution_count": 45,
   "id": "9f3d041c",
   "metadata": {},
   "outputs": [],
   "source": [
    "# Q7\n",
    "def nums(l):\n",
    "    for i in range(len(l)):\n",
    "        for j in range(i,len(l)):\n",
    "            if l[i]==0:\n",
    "                l[i],l[j]=l[j],l[i]\n",
    "    return l"
   ]
  },
  {
   "cell_type": "code",
   "execution_count": 47,
   "id": "b8a6f6e8",
   "metadata": {},
   "outputs": [
    {
     "data": {
      "text/plain": [
       "[1, 2, 3, 15, 0, 0, 0]"
      ]
     },
     "execution_count": 47,
     "metadata": {},
     "output_type": "execute_result"
    }
   ],
   "source": [
    "nums([1,2,0,0,3,15,0])"
   ]
  },
  {
   "cell_type": "code",
   "execution_count": 58,
   "id": "2512ef33",
   "metadata": {},
   "outputs": [],
   "source": [
    "# Q8\n",
    "def nums2(l):\n",
    "    a=[]\n",
    "    for i in l:\n",
    "        if i in a:\n",
    "            return [i,i+1]\n",
    "        else:\n",
    "            a.append(i)\n",
    "    return a"
   ]
  },
  {
   "cell_type": "code",
   "execution_count": 60,
   "id": "0e9d0dc4",
   "metadata": {},
   "outputs": [
    {
     "data": {
      "text/plain": [
       "[2, 3]"
      ]
     },
     "execution_count": 60,
     "metadata": {},
     "output_type": "execute_result"
    }
   ],
   "source": [
    "nums2([1,2,2,4])"
   ]
  },
  {
   "cell_type": "code",
   "execution_count": null,
   "id": "c916dd3e",
   "metadata": {},
   "outputs": [],
   "source": []
  }
 ],
 "metadata": {
  "kernelspec": {
   "display_name": "Python 3",
   "language": "python",
   "name": "python3"
  },
  "language_info": {
   "codemirror_mode": {
    "name": "ipython",
    "version": 3
   },
   "file_extension": ".py",
   "mimetype": "text/x-python",
   "name": "python",
   "nbconvert_exporter": "python",
   "pygments_lexer": "ipython3",
   "version": "3.9.13"
  }
 },
 "nbformat": 4,
 "nbformat_minor": 5
}
