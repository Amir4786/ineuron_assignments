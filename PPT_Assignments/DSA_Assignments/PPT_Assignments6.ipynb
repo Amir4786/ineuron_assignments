{
 "cells": [
  {
   "cell_type": "code",
   "execution_count": 15,
   "metadata": {},
   "outputs": [],
   "source": [
    "# Q1\n",
    "def perm(s):\n",
    "    d=[a for a in range(len(s)+1)]\n",
    "    for i in range(len(s)):\n",
    "        if s[i]==\"I\":\n",
    "            if d[i]<=d[i+1]:\n",
    "                pass\n",
    "            else:\n",
    "                d[i],d[i+1]=d[i+1],d[i]\n",
    "        elif s[i]==\"D\":\n",
    "            if d[i]>=d[i+1]:\n",
    "                pass\n",
    "            else:\n",
    "                d[i],d[i+1]=d[i+1],d[i]\n",
    "    return d"
   ]
  },
  {
   "cell_type": "code",
   "execution_count": 17,
   "metadata": {},
   "outputs": [
    {
     "data": {
      "text/plain": [
       "[0, 2, 1, 4, 3]"
      ]
     },
     "execution_count": 17,
     "metadata": {},
     "output_type": "execute_result"
    }
   ],
   "source": [
    "perm(\"IDID\")"
   ]
  },
  {
   "cell_type": "code",
   "execution_count": 1,
   "metadata": {},
   "outputs": [],
   "source": [
    "# Q2\n",
    "def matrix(mat,target):\n",
    "    a=0\n",
    "    for i in mat:\n",
    "        for j in i:\n",
    "            if j==target:\n",
    "                a+=1\n",
    "    if a>0:\n",
    "        return True\n",
    "    else:\n",
    "        return False"
   ]
  },
  {
   "cell_type": "code",
   "execution_count": 3,
   "metadata": {},
   "outputs": [
    {
     "data": {
      "text/plain": [
       "True"
      ]
     },
     "execution_count": 3,
     "metadata": {},
     "output_type": "execute_result"
    }
   ],
   "source": [
    "matrix([[1,3,5,7],[8,9,13,21],[22,30,44,56]],3)"
   ]
  },
  {
   "cell_type": "code",
   "execution_count": 21,
   "metadata": {},
   "outputs": [],
   "source": [
    "# Q3\n",
    "def mountain(arr):\n",
    "    if len(arr)>=3:\n",
    "        a=[]\n",
    "        b=[]\n",
    "        for i in range(len(arr)-1):\n",
    "            # if arr[i]==arr[i+1]:\n",
    "            #     return False\n",
    "            if arr[i]<arr[i+1]:\n",
    "                a.append(arr[i])\n",
    "            if arr[i]>arr[i+1]:\n",
    "                b.append(arr[i])\n",
    "        b.append(arr[-1])\n",
    "        if arr== a+b:\n",
    "            return True\n",
    "        else:\n",
    "            return False\n",
    "    else:\n",
    "        return False"
   ]
  },
  {
   "cell_type": "code",
   "execution_count": 24,
   "metadata": {},
   "outputs": [
    {
     "data": {
      "text/plain": [
       "True"
      ]
     },
     "execution_count": 24,
     "metadata": {},
     "output_type": "execute_result"
    }
   ],
   "source": [
    "mountain([1,2,3,2,1])"
   ]
  },
  {
   "cell_type": "code",
   "execution_count": 27,
   "metadata": {},
   "outputs": [],
   "source": [
    "# Q4\n",
    "def contiguous(nums):\n",
    "    a=0\n",
    "    b=0\n",
    "    for i in nums:\n",
    "        if i==1:\n",
    "            a+=1\n",
    "        elif i==0:\n",
    "            b+=1\n",
    "    if a>=b:\n",
    "        return 2*b\n",
    "    else:\n",
    "        return 2*a"
   ]
  },
  {
   "cell_type": "code",
   "execution_count": 30,
   "metadata": {},
   "outputs": [
    {
     "data": {
      "text/plain": [
       "6"
      ]
     },
     "execution_count": 30,
     "metadata": {},
     "output_type": "execute_result"
    }
   ],
   "source": [
    "contiguous([0,1,0,1,1,0])"
   ]
  },
  {
   "cell_type": "code",
   "execution_count": 33,
   "metadata": {},
   "outputs": [],
   "source": [
    "# Q5\n",
    "def min_product(nums1,nums2):\n",
    "    a=0\n",
    "    for i in range(len(nums1)):\n",
    "        for j in range(i+1,len(nums1)):\n",
    "            if nums1[i]>=nums1[j]:\n",
    "                nums1[i],nums1[j]=nums1[j],nums1[i]\n",
    "    for i in range(len(nums2)):\n",
    "        for j in range(i+1,len(nums2)):\n",
    "            if nums2[i]<=nums2[j]:\n",
    "                nums2[i],nums2[j]=nums2[j],nums2[i]\n",
    "    for i in range(len(nums1)):\n",
    "        a+=nums1[i]*nums2[i]\n",
    "    return a"
   ]
  },
  {
   "cell_type": "code",
   "execution_count": 34,
   "metadata": {},
   "outputs": [
    {
     "data": {
      "text/plain": [
       "104"
      ]
     },
     "execution_count": 34,
     "metadata": {},
     "output_type": "execute_result"
    }
   ],
   "source": [
    "min_product([2,4,1,6,3],[9,10,7,4,8])"
   ]
  },
  {
   "cell_type": "code",
   "execution_count": 35,
   "metadata": {},
   "outputs": [],
   "source": [
    "# Q6\n",
    "def changed(l):\n",
    "    a=[]\n",
    "    for i in l:\n",
    "        if 2*i in l:\n",
    "            a.append(i)\n",
    "\n",
    "    return a"
   ]
  },
  {
   "cell_type": "code",
   "execution_count": 36,
   "metadata": {},
   "outputs": [
    {
     "data": {
      "text/plain": [
       "[1, 2, 3]"
      ]
     },
     "execution_count": 36,
     "metadata": {},
     "output_type": "execute_result"
    }
   ],
   "source": [
    "changed([1,2,4,5,3,6])"
   ]
  },
  {
   "cell_type": "code",
   "execution_count": 63,
   "metadata": {},
   "outputs": [],
   "source": [
    "# Q7\n",
    "def spiral_matrix(n):\n",
    "    r1=0\n",
    "    r2=n\n",
    "    c1=0\n",
    "    c2=n\n",
    "    values= [[0 for i in range(n)] for j in range(n)]\n",
    "    count=1\n",
    "    while count<=n**2:\n",
    "        for i in range(c1,c2):\n",
    "            values[r1][i]=count\n",
    "            count+=1\n",
    "        if count>n**2:\n",
    "            break\n",
    "        for i in range(r1+1,r2):\n",
    "            values[i][c2-1]=count\n",
    "            count+=1\n",
    "        if count>n**2:\n",
    "            break\n",
    "        for i in range(c2-2,c1-1,-1):\n",
    "            values[r2-1][i]=count\n",
    "            count+=1\n",
    "        if count>n**2:\n",
    "            break\n",
    "        for i in range(r2-2,r1,-1):\n",
    "            values[i][c1]=count\n",
    "            count+=1\n",
    "            r1+=1\n",
    "            r2-=1\n",
    "            c1+=1\n",
    "            c2-=1\n",
    "    return values\n"
   ]
  },
  {
   "cell_type": "code",
   "execution_count": 66,
   "metadata": {},
   "outputs": [
    {
     "data": {
      "text/plain": [
       "[[1, 2, 3], [8, 9, 4], [7, 6, 5]]"
      ]
     },
     "execution_count": 66,
     "metadata": {},
     "output_type": "execute_result"
    }
   ],
   "source": [
    "spiral_matrix(3)"
   ]
  },
  {
   "cell_type": "code",
   "execution_count": 112,
   "metadata": {},
   "outputs": [],
   "source": [
    "# Q8\n",
    "def sparse_matrices(mat1,mat2):\n",
    "    matrix=[]\n",
    "    a=[]\n",
    "    b=[]\n",
    "    k=0\n",
    "    while k<len(mat2[0]):\n",
    "        for i in mat2:\n",
    "            b.append(i[k])  \n",
    "        a.append(b)\n",
    "        b=[]\n",
    "        k+=1\n",
    "    for i in range(len(mat1)):\n",
    "        sub=[]\n",
    "        for j in range(len(a)):\n",
    "            c=0\n",
    "            for k in range(len(mat1[0])):\n",
    "                c+=mat1[i][k]*a[j][k]\n",
    "            sub.append(c)\n",
    "        matrix.append(sub)\n",
    "    return matrix"
   ]
  },
  {
   "cell_type": "code",
   "execution_count": 113,
   "metadata": {},
   "outputs": [
    {
     "data": {
      "text/plain": [
       "[[49, 64, 79], [67, 88, 109]]"
      ]
     },
     "execution_count": 113,
     "metadata": {},
     "output_type": "execute_result"
    }
   ],
   "source": [
    "sparse_matrices([[4,5,6],[6,7,8]],[[1,2,3],[3,4,5],[5,6,7]])"
   ]
  },
  {
   "cell_type": "code",
   "execution_count": 114,
   "metadata": {},
   "outputs": [
    {
     "data": {
      "text/plain": [
       "[[7, 0, 0], [-7, 0, 3]]"
      ]
     },
     "execution_count": 114,
     "metadata": {},
     "output_type": "execute_result"
    }
   ],
   "source": [
    "sparse_matrices([[1,0,0],[-1,0,3]],[[7,0,0],[0,0,0],[0,0,1]])"
   ]
  },
  {
   "cell_type": "code",
   "execution_count": null,
   "metadata": {},
   "outputs": [],
   "source": [
    "[4,5,6]"
   ]
  }
 ],
 "metadata": {
  "kernelspec": {
   "display_name": "Python 3",
   "language": "python",
   "name": "python3"
  },
  "language_info": {
   "codemirror_mode": {
    "name": "ipython",
    "version": 3
   },
   "file_extension": ".py",
   "mimetype": "text/x-python",
   "name": "python",
   "nbconvert_exporter": "python",
   "pygments_lexer": "ipython3",
   "version": "3.10.7"
  },
  "orig_nbformat": 4
 },
 "nbformat": 4,
 "nbformat_minor": 2
}
