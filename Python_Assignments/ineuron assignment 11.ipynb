{
 "cells": [
  {
   "cell_type": "code",
   "execution_count": 111,
   "id": "da68208e",
   "metadata": {},
   "outputs": [],
   "source": [
    "## Q1.\n",
    "def filter_primes(l):\n",
    "    b=[]\n",
    "    for i in l:\n",
    "        if i>=2:\n",
    "            if all(i%j!=0 for j in range(2,i)):\n",
    "                b.append(i)\n",
    "    return b"
   ]
  },
  {
   "cell_type": "code",
   "execution_count": 112,
   "id": "c364d8c2",
   "metadata": {},
   "outputs": [
    {
     "data": {
      "text/plain": [
       "[2, 7, 11, 13]"
      ]
     },
     "execution_count": 112,
     "metadata": {},
     "output_type": "execute_result"
    }
   ],
   "source": [
    "filter_primes([2,8,7,9,11,12,1,13,15])"
   ]
  },
  {
   "cell_type": "code",
   "execution_count": 113,
   "id": "9dcc5c62",
   "metadata": {},
   "outputs": [],
   "source": [
    "## Q2.\n",
    "def pop(l):\n",
    "    a=[]\n",
    "    b=[]\n",
    "    c=0\n",
    "    if len(l)==1:\n",
    "        return [l[0]]\n",
    "    else:\n",
    "        for i in range(len(l)):\n",
    "            if l[i]>0:\n",
    "                a.append(l[i])\n",
    "                c+=l[i]\n",
    "    for i in range(a[0]+1):\n",
    "        b.append(i)\n",
    "    b=b+b[-2::-1]\n",
    "    if (len(l)-1)/2==c:\n",
    "        return b\n",
    "    else:\n",
    "        return \"Incorrect\""
   ]
  },
  {
   "cell_type": "code",
   "execution_count": 114,
   "id": "75731d9c",
   "metadata": {},
   "outputs": [
    {
     "data": {
      "text/plain": [
       "[0, 1, 2, 3, 2, 1, 0]"
      ]
     },
     "execution_count": 114,
     "metadata": {},
     "output_type": "execute_result"
    }
   ],
   "source": [
    "pop([0,0,0,3,0,0,0])"
   ]
  },
  {
   "cell_type": "code",
   "execution_count": 115,
   "id": "6fd2fec7",
   "metadata": {},
   "outputs": [
    {
     "data": {
      "text/plain": [
       "[0]"
      ]
     },
     "execution_count": 115,
     "metadata": {},
     "output_type": "execute_result"
    }
   ],
   "source": [
    "pop([0])"
   ]
  },
  {
   "cell_type": "code",
   "execution_count": 116,
   "id": "191cf57d",
   "metadata": {},
   "outputs": [
    {
     "data": {
      "text/plain": [
       "'Incorrect'"
      ]
     },
     "execution_count": 116,
     "metadata": {},
     "output_type": "execute_result"
    }
   ],
   "source": [
    "pop([1,2,3])"
   ]
  },
  {
   "cell_type": "code",
   "execution_count": 117,
   "id": "63ad3f09",
   "metadata": {},
   "outputs": [],
   "source": [
    "## Q3.\n",
    "def loves_me(n):\n",
    "    love=[]\n",
    "    for i in range(n):\n",
    "        if i%2==0:\n",
    "            love.append(\"Loves me\")\n",
    "        else:\n",
    "            love.append(\"Loves me not\")\n",
    "    love[-1]=love[-1].upper()\n",
    "    b=', '.join(love)\n",
    "    return b"
   ]
  },
  {
   "cell_type": "code",
   "execution_count": 118,
   "id": "d3aa9bc4",
   "metadata": {},
   "outputs": [
    {
     "data": {
      "text/plain": [
       "'Loves me, Loves me not, Loves me, Loves me not, Loves me, LOVES ME NOT'"
      ]
     },
     "execution_count": 118,
     "metadata": {},
     "output_type": "execute_result"
    }
   ],
   "source": [
    "loves_me(6)"
   ]
  },
  {
   "cell_type": "code",
   "execution_count": 119,
   "id": "0934d7fc",
   "metadata": {},
   "outputs": [
    {
     "data": {
      "text/plain": [
       "'Loves me, Loves me not, LOVES ME'"
      ]
     },
     "execution_count": 119,
     "metadata": {},
     "output_type": "execute_result"
    }
   ],
   "source": [
    "loves_me(3)"
   ]
  },
  {
   "cell_type": "code",
   "execution_count": 120,
   "id": "67c5e300",
   "metadata": {},
   "outputs": [
    {
     "data": {
      "text/plain": [
       "'LOVES ME'"
      ]
     },
     "execution_count": 120,
     "metadata": {},
     "output_type": "execute_result"
    }
   ],
   "source": [
    "loves_me(1)"
   ]
  },
  {
   "cell_type": "code",
   "execution_count": 143,
   "id": "b1fdf5c4",
   "metadata": {},
   "outputs": [],
   "source": [
    "## Q4.\n",
    "def sort_by_letter(l):\n",
    "    alpha={'a':1,'b':2,'c':3,'d':4,'e':5,'f':6,'g':7,'h':8,'i':9,'j':10,'k':11,'l':12,'m':13,'n':14,'o':15,'p':16,'q':17,'r':18,'s':19,'t':20,'u':21,'v':22,'w':23,'x':24,'y':25,'z':26}\n",
    "    a=[]\n",
    "    b={}\n",
    "    c={}\n",
    "    d=[]\n",
    "    for i in range(len(l)):\n",
    "        for j in l[i]:\n",
    "            if j.isalpha()==True:\n",
    "                a.append(j)\n",
    "        b[l[i]]=alpha[a[i]]\n",
    "    mkeys=list(b.values())\n",
    "    for i in range(len(mkeys)):\n",
    "        for j in range(i+1,len(mkeys)):\n",
    "            if mkeys[i]>=mkeys[j]:\n",
    "                mkeys[i],mkeys[j]=mkeys[j],mkeys[i]\n",
    "    for k,v in b.items():\n",
    "        c[v]=k\n",
    "    for i in mkeys:\n",
    "        d.append(c[i])\n",
    "    return d"
   ]
  },
  {
   "cell_type": "code",
   "execution_count": 146,
   "id": "1685fa9d",
   "metadata": {},
   "outputs": [
    {
     "data": {
      "text/plain": [
       "['569a2', '98b785', 'd597', '854j']"
      ]
     },
     "execution_count": 146,
     "metadata": {},
     "output_type": "execute_result"
    }
   ],
   "source": [
    "sort_by_letter(['569a2','854j','98b785','d597'])"
   ]
  },
  {
   "cell_type": "code",
   "execution_count": 147,
   "id": "93acdd05",
   "metadata": {},
   "outputs": [
    {
     "data": {
      "text/plain": [
       "['57g', '85j6', '96x', '99z']"
      ]
     },
     "execution_count": 147,
     "metadata": {},
     "output_type": "execute_result"
    }
   ],
   "source": [
    "sort_by_letter(['99z','57g','96x','85j6'])"
   ]
  },
  {
   "cell_type": "code",
   "execution_count": 150,
   "id": "af192fa8",
   "metadata": {},
   "outputs": [],
   "source": [
    "## Q5.\n",
    "def cup_swapping(l):\n",
    "    length=len(l)\n",
    "    count=0\n",
    "    alpha='B'\n",
    "    while length>0:\n",
    "        for i in range(len(l)):\n",
    "            if l[i][0]== alpha:\n",
    "                alpha=l[i][1]\n",
    "            elif l[i][1]==alpha:\n",
    "                alpha=l[i][0]\n",
    "            else:\n",
    "                pass\n",
    "            length-=1\n",
    "    return alpha"
   ]
  },
  {
   "cell_type": "code",
   "execution_count": 151,
   "id": "7c470f53",
   "metadata": {},
   "outputs": [
    {
     "data": {
      "text/plain": [
       "'C'"
      ]
     },
     "execution_count": 151,
     "metadata": {},
     "output_type": "execute_result"
    }
   ],
   "source": [
    "cup_swapping([\"AB\",\"CA\",\"AB\"])"
   ]
  },
  {
   "cell_type": "code",
   "execution_count": 153,
   "id": "aa6998eb",
   "metadata": {},
   "outputs": [
    {
     "data": {
      "text/plain": [
       "'B'"
      ]
     },
     "execution_count": 153,
     "metadata": {},
     "output_type": "execute_result"
    }
   ],
   "source": [
    "cup_swapping([\"CA\",\"AB\",\"CA\",\"AC\",\"AB\",\"AC\"])"
   ]
  },
  {
   "cell_type": "code",
   "execution_count": null,
   "id": "3a5ffc17",
   "metadata": {},
   "outputs": [],
   "source": []
  }
 ],
 "metadata": {
  "kernelspec": {
   "display_name": "Python 3",
   "language": "python",
   "name": "python3"
  },
  "language_info": {
   "codemirror_mode": {
    "name": "ipython",
    "version": 3
   },
   "file_extension": ".py",
   "mimetype": "text/x-python",
   "name": "python",
   "nbconvert_exporter": "python",
   "pygments_lexer": "ipython3",
   "version": "3.9.13"
  }
 },
 "nbformat": 4,
 "nbformat_minor": 5
}
