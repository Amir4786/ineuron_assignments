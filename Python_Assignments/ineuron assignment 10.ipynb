{
 "cells": [
  {
   "cell_type": "code",
   "execution_count": 123,
   "id": "372087a5",
   "metadata": {},
   "outputs": [],
   "source": [
    "## Q1\n",
    "def get_frame(a,b,char):\n",
    "    l=[]\n",
    "    p=[]\n",
    "    if a>2 and b>2:\n",
    "        for i in range(b):\n",
    "            s=''\n",
    "            for j in range(a):\n",
    "                if i==0 or j==0 or j==a-1 or i==b-1:\n",
    "                    print(char,end='')\n",
    "                    s+=''.join(char)\n",
    "                else:\n",
    "                    print(\" \",end=\"\")\n",
    "                    s+=''.join(\" \")\n",
    "            l.append(s)\n",
    "            print()\n",
    "    else:\n",
    "        return \"invalid\"\n",
    "    for i in l:\n",
    "        p.append(i)\n",
    "        print(p)\n",
    "        p=[]"
   ]
  },
  {
   "cell_type": "code",
   "execution_count": 124,
   "id": "dcdb5ee7",
   "metadata": {},
   "outputs": [
    {
     "data": {
      "text/plain": [
       "'invalid'"
      ]
     },
     "execution_count": 124,
     "metadata": {},
     "output_type": "execute_result"
    }
   ],
   "source": [
    "get_frame(4,2,\"#\")"
   ]
  },
  {
   "cell_type": "code",
   "execution_count": 125,
   "id": "c267c1d9",
   "metadata": {},
   "outputs": [
    {
     "name": "stdout",
     "output_type": "stream",
     "text": [
      "####\n",
      "#  #\n",
      "#  #\n",
      "#  #\n",
      "####\n",
      "['####']\n",
      "['#  #']\n",
      "['#  #']\n",
      "['#  #']\n",
      "['####']\n"
     ]
    }
   ],
   "source": [
    "get_frame(4,5,\"#\")"
   ]
  },
  {
   "cell_type": "code",
   "execution_count": 175,
   "id": "d480daa1",
   "metadata": {},
   "outputs": [],
   "source": [
    "## Q2.\n",
    "class boolean:\n",
    "    def __init__(self,l):\n",
    "        self.l=l\n",
    "    def boolean_and(self):\n",
    "        a=self.l\n",
    "        b=0\n",
    "        for i in range(len(a)-1):\n",
    "            if a[i]+a[i+1]==2:\n",
    "                b+=1\n",
    "        if b==len(a)-1:\n",
    "            return True\n",
    "        else:\n",
    "            return False\n",
    "    def boolean_or(self):\n",
    "        a=self.l\n",
    "        b=0\n",
    "        for i in range(len(a)-1):\n",
    "            if a[i]+a[i+1]==0:\n",
    "                pass\n",
    "            else:\n",
    "                b+=1\n",
    "        if b>=1:\n",
    "            return True\n",
    "        else:\n",
    "            return False\n",
    "    def boolean_xor(self):\n",
    "        a=self.l\n",
    "        c=len(a)\n",
    "        while c>0:\n",
    "            for i in range(len(a)-1):\n",
    "                if a[i]+a[i+1]==1:\n",
    "                    a[i]=1\n",
    "                    c-=1\n",
    "                else:\n",
    "                    a[i]=0\n",
    "                    c-=1\n",
    "        return a[-1]"
   ]
  },
  {
   "cell_type": "code",
   "execution_count": 180,
   "id": "6e1721c7",
   "metadata": {},
   "outputs": [],
   "source": [
    "b=boolean([True, True, False, False])"
   ]
  },
  {
   "cell_type": "code",
   "execution_count": 181,
   "id": "5fa05463",
   "metadata": {},
   "outputs": [
    {
     "data": {
      "text/plain": [
       "False"
      ]
     },
     "execution_count": 181,
     "metadata": {},
     "output_type": "execute_result"
    }
   ],
   "source": [
    "b.boolean_and()"
   ]
  },
  {
   "cell_type": "code",
   "execution_count": 182,
   "id": "cfdabd34",
   "metadata": {},
   "outputs": [
    {
     "data": {
      "text/plain": [
       "True"
      ]
     },
     "execution_count": 182,
     "metadata": {},
     "output_type": "execute_result"
    }
   ],
   "source": [
    "b.boolean_or()"
   ]
  },
  {
   "cell_type": "code",
   "execution_count": 183,
   "id": "2874622a",
   "metadata": {},
   "outputs": [
    {
     "data": {
      "text/plain": [
       "False"
      ]
     },
     "execution_count": 183,
     "metadata": {},
     "output_type": "execute_result"
    }
   ],
   "source": [
    "b.boolean_xor()"
   ]
  },
  {
   "cell_type": "code",
   "execution_count": 191,
   "id": "7b34d98c",
   "metadata": {},
   "outputs": [],
   "source": [
    "## Q3.\n",
    "def make_box(n):\n",
    "    a=[]\n",
    "    for i in range(n):\n",
    "        s=''\n",
    "        for j in range(n):\n",
    "            if i==0 or i==n-1 or j==0 or j==n-1:\n",
    "                print(\"#\",end='')\n",
    "                s+=''.join('#')\n",
    "            else:\n",
    "                print(' ',end='')\n",
    "                s+=''.join(\" \")\n",
    "        print()\n",
    "        a.append(s)\n",
    "    return a"
   ]
  },
  {
   "cell_type": "code",
   "execution_count": 192,
   "id": "dc7badff",
   "metadata": {},
   "outputs": [
    {
     "name": "stdout",
     "output_type": "stream",
     "text": [
      "####\n",
      "#  #\n",
      "#  #\n",
      "####\n"
     ]
    },
    {
     "data": {
      "text/plain": [
       "['####', '#  #', '#  #', '####']"
      ]
     },
     "execution_count": 192,
     "metadata": {},
     "output_type": "execute_result"
    }
   ],
   "source": [
    "make_box(4)"
   ]
  },
  {
   "cell_type": "code",
   "execution_count": 193,
   "id": "6b7d1bfa",
   "metadata": {},
   "outputs": [
    {
     "name": "stdout",
     "output_type": "stream",
     "text": [
      "#\n"
     ]
    },
    {
     "data": {
      "text/plain": [
       "['#']"
      ]
     },
     "execution_count": 193,
     "metadata": {},
     "output_type": "execute_result"
    }
   ],
   "source": [
    "make_box(1)"
   ]
  },
  {
   "cell_type": "code",
   "execution_count": 203,
   "id": "357350cc",
   "metadata": {},
   "outputs": [],
   "source": [
    "## Q4.\n",
    "def no_duplicate_letters(sentence):\n",
    "    words=sentence.split(\" \")\n",
    "    a=[]\n",
    "    b=0\n",
    "    for word in words:\n",
    "        for letter in word:\n",
    "            if letter not in a:\n",
    "                a.append(letter)\n",
    "            else:\n",
    "                b+=1\n",
    "        a=[]\n",
    "    if b==0:\n",
    "        return True\n",
    "    else:\n",
    "        return False"
   ]
  },
  {
   "cell_type": "code",
   "execution_count": 204,
   "id": "062d138b",
   "metadata": {},
   "outputs": [
    {
     "data": {
      "text/plain": [
       "True"
      ]
     },
     "execution_count": 204,
     "metadata": {},
     "output_type": "execute_result"
    }
   ],
   "source": [
    "no_duplicate_letters(\"your, name is xyz\")"
   ]
  },
  {
   "cell_type": "code",
   "execution_count": 207,
   "id": "13c83a71",
   "metadata": {},
   "outputs": [
    {
     "data": {
      "text/plain": [
       "False"
      ]
     },
     "execution_count": 207,
     "metadata": {},
     "output_type": "execute_result"
    }
   ],
   "source": [
    "no_duplicate_letters(\"look before you leap.\")"
   ]
  },
  {
   "cell_type": "code",
   "execution_count": 236,
   "id": "69ac2eae",
   "metadata": {},
   "outputs": [],
   "source": [
    "## Q5.\n",
    "def regex(txt):\n",
    "    import re\n",
    "    a=[]\n",
    "    pattern= re.compile(r\"\\w+\\s*\\=\\s*yes\")\n",
    "    matches= pattern.findall(txt)\n",
    "    for match in matches:\n",
    "        a.append(match[:-6])\n",
    "    print(a)"
   ]
  },
  {
   "cell_type": "code",
   "execution_count": 238,
   "id": "6e4dc43e",
   "metadata": {},
   "outputs": [
    {
     "name": "stdout",
     "output_type": "stream",
     "text": [
      "['California', 'Texas']\n"
     ]
    }
   ],
   "source": [
    "regex(\"Michigan= no, California = yes, Florida = no, Texas = yes\")"
   ]
  },
  {
   "cell_type": "code",
   "execution_count": null,
   "id": "e5771cd4",
   "metadata": {},
   "outputs": [],
   "source": []
  }
 ],
 "metadata": {
  "kernelspec": {
   "display_name": "Python 3",
   "language": "python",
   "name": "python3"
  },
  "language_info": {
   "codemirror_mode": {
    "name": "ipython",
    "version": 3
   },
   "file_extension": ".py",
   "mimetype": "text/x-python",
   "name": "python",
   "nbconvert_exporter": "python",
   "pygments_lexer": "ipython3",
   "version": "3.9.13"
  }
 },
 "nbformat": 4,
 "nbformat_minor": 5
}
