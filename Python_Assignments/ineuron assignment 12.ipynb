{
 "cells": [
  {
   "cell_type": "code",
   "execution_count": 42,
   "id": "3b021973",
   "metadata": {},
   "outputs": [],
   "source": [
    "## Q1.\n",
    "def meme_sum(a,b):\n",
    "    x=[]\n",
    "    first=min(a,b)\n",
    "    second=max(a,b)\n",
    "    count=0\n",
    "    while first>0:\n",
    "        digit_min=first%10\n",
    "        digit_max=second%10\n",
    "        x.append(digit_min+digit_max)\n",
    "        first=first//10\n",
    "        second=second//10 \n",
    "    x.append(second)\n",
    "    x=x[::-1]\n",
    "    num=''\n",
    "    for i in x:\n",
    "        i=str(i)\n",
    "        num+=''.join(i)\n",
    "    num=int(num)\n",
    "    return num"
   ]
  },
  {
   "cell_type": "code",
   "execution_count": 43,
   "id": "bd652dec",
   "metadata": {},
   "outputs": [
    {
     "data": {
      "text/plain": [
       "655133"
      ]
     },
     "execution_count": 43,
     "metadata": {},
     "output_type": "execute_result"
    }
   ],
   "source": [
    "meme_sum(52,65581)"
   ]
  },
  {
   "cell_type": "code",
   "execution_count": 44,
   "id": "9ffba73f",
   "metadata": {},
   "outputs": [
    {
     "data": {
      "text/plain": [
       "1010"
      ]
     },
     "execution_count": 44,
     "metadata": {},
     "output_type": "execute_result"
    }
   ],
   "source": [
    "meme_sum(55,55)"
   ]
  },
  {
   "cell_type": "code",
   "execution_count": 85,
   "id": "5a676e61",
   "metadata": {},
   "outputs": [],
   "source": [
    "## Q2.\n",
    "def next_prime(n):\n",
    "    l=0\n",
    "    c=n\n",
    "    if all(c%i!=0 for i in range(2,c)):\n",
    "        return c\n",
    "    while l<2:\n",
    "        if all(c%j!=0 for j in range(2,c)):\n",
    "            l+=1\n",
    "            return c\n",
    "        else:\n",
    "            c+=1"
   ]
  },
  {
   "cell_type": "code",
   "execution_count": 86,
   "id": "0597fc94",
   "metadata": {},
   "outputs": [
    {
     "data": {
      "text/plain": [
       "11"
      ]
     },
     "execution_count": 86,
     "metadata": {},
     "output_type": "execute_result"
    }
   ],
   "source": [
    "next_prime(11)"
   ]
  },
  {
   "cell_type": "code",
   "execution_count": 87,
   "id": "0e933841",
   "metadata": {},
   "outputs": [
    {
     "data": {
      "text/plain": [
       "23"
      ]
     },
     "execution_count": 87,
     "metadata": {},
     "output_type": "execute_result"
    }
   ],
   "source": [
    "next_prime(20)"
   ]
  },
  {
   "cell_type": "code",
   "execution_count": 93,
   "id": "94a2f336",
   "metadata": {},
   "outputs": [],
   "source": [
    "## Q3.\n",
    "def ave_spd(l):\n",
    "    up_time=l[0]\n",
    "    up_speed=l[1]\n",
    "    down_speed=l[2]\n",
    "    distance=up_time*up_speed/60\n",
    "    down_time=distance/down_speed*60\n",
    "    total_distance=2*distance\n",
    "    total_time=up_time+down_time\n",
    "    avg_speed= round(total_distance/total_time*60)\n",
    "    return avg_speed"
   ]
  },
  {
   "cell_type": "code",
   "execution_count": 94,
   "id": "3141c31c",
   "metadata": {},
   "outputs": [
    {
     "data": {
      "text/plain": [
       "30"
      ]
     },
     "execution_count": 94,
     "metadata": {},
     "output_type": "execute_result"
    }
   ],
   "source": [
    "ave_spd([18,20,60])"
   ]
  },
  {
   "cell_type": "code",
   "execution_count": 96,
   "id": "826a47b7",
   "metadata": {},
   "outputs": [
    {
     "data": {
      "text/plain": [
       "12"
      ]
     },
     "execution_count": 96,
     "metadata": {},
     "output_type": "execute_result"
    }
   ],
   "source": [
    "ave_spd([30,8,24])"
   ]
  },
  {
   "cell_type": "code",
   "execution_count": 124,
   "id": "dc1daa82",
   "metadata": {},
   "outputs": [],
   "source": [
    "## Q4.\n",
    "def kempner(n):\n",
    "    c=1\n",
    "    a=0\n",
    "    d=[]\n",
    "    temp=n\n",
    "    while temp>0:\n",
    "        for i in range(1,n+1):\n",
    "            c*=i\n",
    "            d.append(c)\n",
    "        temp-=1\n",
    "    for i in d:\n",
    "            if i%n>0:\n",
    "                a+=1\n",
    "            elif i%n==0:\n",
    "                a+=1\n",
    "                break\n",
    "    return a"
   ]
  },
  {
   "cell_type": "code",
   "execution_count": 125,
   "id": "28eeddc1",
   "metadata": {},
   "outputs": [
    {
     "data": {
      "text/plain": [
       "3"
      ]
     },
     "execution_count": 125,
     "metadata": {},
     "output_type": "execute_result"
    }
   ],
   "source": [
    "kempner(6)"
   ]
  },
  {
   "cell_type": "code",
   "execution_count": 126,
   "id": "c8133ed2",
   "metadata": {},
   "outputs": [
    {
     "data": {
      "text/plain": [
       "5"
      ]
     },
     "execution_count": 126,
     "metadata": {},
     "output_type": "execute_result"
    }
   ],
   "source": [
    "kempner(10)"
   ]
  },
  {
   "cell_type": "code",
   "execution_count": 127,
   "id": "ff1b9d67",
   "metadata": {},
   "outputs": [
    {
     "data": {
      "text/plain": [
       "2"
      ]
     },
     "execution_count": 127,
     "metadata": {},
     "output_type": "execute_result"
    }
   ],
   "source": [
    "kempner(2)"
   ]
  },
  {
   "cell_type": "code",
   "execution_count": 128,
   "id": "f3a37137",
   "metadata": {},
   "outputs": [
    {
     "data": {
      "text/plain": [
       "5"
      ]
     },
     "execution_count": 128,
     "metadata": {},
     "output_type": "execute_result"
    }
   ],
   "source": [
    "kempner(5)"
   ]
  },
  {
   "cell_type": "code",
   "execution_count": 129,
   "id": "ef70949d",
   "metadata": {},
   "outputs": [
    {
     "data": {
      "text/plain": [
       "13"
      ]
     },
     "execution_count": 129,
     "metadata": {},
     "output_type": "execute_result"
    }
   ],
   "source": [
    "kempner(13)"
   ]
  },
  {
   "cell_type": "code",
   "execution_count": 210,
   "id": "af44b007",
   "metadata": {},
   "outputs": [],
   "source": [
    "## Q5.\n",
    "def boxes(belt):\n",
    "    number=0\n",
    "    count=0\n",
    "    for i in range(len(belt)):\n",
    "        if number<10:\n",
    "            number+=belt[i]\n",
    "        if number==10:\n",
    "            count+=1\n",
    "            number=0\n",
    "        if number>10:\n",
    "            count+=1\n",
    "            number-belt[i-1]\n",
    "            number=belt[i]\n",
    "    if number==0:\n",
    "        count-=1\n",
    "    return count+1"
   ]
  },
  {
   "cell_type": "code",
   "execution_count": 212,
   "id": "8ac0d33c",
   "metadata": {},
   "outputs": [
    {
     "data": {
      "text/plain": [
       "5"
      ]
     },
     "execution_count": 212,
     "metadata": {},
     "output_type": "execute_result"
    }
   ],
   "source": [
    "boxes([2,1,2,5,4,3,6,1,1,9,3,2])"
   ]
  },
  {
   "cell_type": "code",
   "execution_count": null,
   "id": "dcda0d29",
   "metadata": {},
   "outputs": [],
   "source": []
  },
  {
   "cell_type": "code",
   "execution_count": null,
   "id": "8437fe5b",
   "metadata": {},
   "outputs": [],
   "source": []
  }
 ],
 "metadata": {
  "kernelspec": {
   "display_name": "Python 3",
   "language": "python",
   "name": "python3"
  },
  "language_info": {
   "codemirror_mode": {
    "name": "ipython",
    "version": 3
   },
   "file_extension": ".py",
   "mimetype": "text/x-python",
   "name": "python",
   "nbconvert_exporter": "python",
   "pygments_lexer": "ipython3",
   "version": "3.9.13"
  }
 },
 "nbformat": 4,
 "nbformat_minor": 5
}
