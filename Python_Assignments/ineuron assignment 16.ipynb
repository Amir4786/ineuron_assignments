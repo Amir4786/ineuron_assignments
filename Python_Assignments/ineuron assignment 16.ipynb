{
 "cells": [
  {
   "cell_type": "code",
   "execution_count": 74,
   "id": "cc538aa3",
   "metadata": {},
   "outputs": [],
   "source": [
    "## Q1.\n",
    "def valid_rondo(s):\n",
    "    alpha={'a':1,'b':2,'c':3,'d':4,'e':5,'f':6,'g':7,'h':8,'i':9,'j':10,'k':11,'l':12,'m':13,'n':14,'o':15,'p':16,'q':17,'r':18,'s':19,'t':20,'u':21,'v':22,'w':23,'x':24,'y':25,'z':26}\n",
    "    a_count=0\n",
    "    ab=[]\n",
    "    if s==\"A\": return False\n",
    "    elif len(s)%2==0: return False\n",
    "    else:\n",
    "        for i in range(len(s)):\n",
    "            if i%2==0 and s[i]==\"A\":\n",
    "                a_count+=1\n",
    "            else:\n",
    "                ab.append(alpha[s[i].lower()])\n",
    "        for i in range(len(ab)-1):\n",
    "            for j in range(i+1,len(ab)):\n",
    "                if ab[j]>ab[i]:\n",
    "                    a_count+=1\n",
    "                else:\n",
    "                    return False\n",
    "    return True"
   ]
  },
  {
   "cell_type": "code",
   "execution_count": 75,
   "id": "3dda125b",
   "metadata": {},
   "outputs": [
    {
     "data": {
      "text/plain": [
       "True"
      ]
     },
     "execution_count": 75,
     "metadata": {},
     "output_type": "execute_result"
    }
   ],
   "source": [
    "valid_rondo(\"ABACA\")"
   ]
  },
  {
   "cell_type": "code",
   "execution_count": 76,
   "id": "650ec732",
   "metadata": {},
   "outputs": [
    {
     "data": {
      "text/plain": [
       "False"
      ]
     },
     "execution_count": 76,
     "metadata": {},
     "output_type": "execute_result"
    }
   ],
   "source": [
    "valid_rondo(\"A\")"
   ]
  },
  {
   "cell_type": "code",
   "execution_count": 77,
   "id": "3c746ed4",
   "metadata": {},
   "outputs": [
    {
     "data": {
      "text/plain": [
       "False"
      ]
     },
     "execution_count": 77,
     "metadata": {},
     "output_type": "execute_result"
    }
   ],
   "source": [
    "valid_rondo(\"ABBACCA\")"
   ]
  },
  {
   "cell_type": "code",
   "execution_count": 78,
   "id": "a53ee06c",
   "metadata": {},
   "outputs": [
    {
     "data": {
      "text/plain": [
       "True"
      ]
     },
     "execution_count": 78,
     "metadata": {},
     "output_type": "execute_result"
    }
   ],
   "source": [
    "valid_rondo(\"ABACADAEAFAGAHAIAJA\")"
   ]
  },
  {
   "cell_type": "code",
   "execution_count": 145,
   "id": "b3b373b3",
   "metadata": {},
   "outputs": [],
   "source": [
    "## Q2.\n",
    "def sentence_search(txt,word):\n",
    "    txt=txt.split(\".\")\n",
    "    w1=word.lower()\n",
    "    w2=word.upper()\n",
    "    w3=word.title()\n",
    "    a=[]\n",
    "    k=[]\n",
    "    for i in txt:\n",
    "        b=[]\n",
    "        i=i.split()\n",
    "        for j in i:\n",
    "            b.append(j)\n",
    "        a.append(b)\n",
    "    for i in a:\n",
    "        for j in i:\n",
    "            if (word in i or w1 in i or w2 in i or w3 in i):\n",
    "                k.append(i)\n",
    "    if len(k)>=1:\n",
    "        k=k[0]\n",
    "        k=' '.join(k)+'.'\n",
    "        return k\n",
    "    else:\n",
    "        return []"
   ]
  },
  {
   "cell_type": "code",
   "execution_count": 146,
   "id": "fce72026",
   "metadata": {},
   "outputs": [
    {
     "data": {
      "text/plain": [
       "'I have a cat.'"
      ]
     },
     "execution_count": 146,
     "metadata": {},
     "output_type": "execute_result"
    }
   ],
   "source": [
    "txt= \"I have a cat. I have a mat. Things are going swell\"\n",
    "sentence_search(txt,\"have\")"
   ]
  },
  {
   "cell_type": "code",
   "execution_count": 147,
   "id": "722ef069",
   "metadata": {},
   "outputs": [
    {
     "data": {
      "text/plain": [
       "'I have a mat.'"
      ]
     },
     "execution_count": 147,
     "metadata": {},
     "output_type": "execute_result"
    }
   ],
   "source": [
    "sentence_search(txt,\"MAT\")"
   ]
  },
  {
   "cell_type": "code",
   "execution_count": 148,
   "id": "783d1a33",
   "metadata": {},
   "outputs": [
    {
     "data": {
      "text/plain": [
       "'Things are going swell.'"
      ]
     },
     "execution_count": 148,
     "metadata": {},
     "output_type": "execute_result"
    }
   ],
   "source": [
    "sentence_search(txt,\"things\")"
   ]
  },
  {
   "cell_type": "code",
   "execution_count": 149,
   "id": "6d541894",
   "metadata": {},
   "outputs": [
    {
     "data": {
      "text/plain": [
       "[]"
      ]
     },
     "execution_count": 149,
     "metadata": {},
     "output_type": "execute_result"
    }
   ],
   "source": [
    "sentence_search(txt,\"flat\")"
   ]
  },
  {
   "cell_type": "code",
   "execution_count": 262,
   "id": "2abedd51",
   "metadata": {},
   "outputs": [],
   "source": [
    "## Q3.\n",
    "def sum_round(n):\n",
    "    num=n\n",
    "    count=[]\n",
    "    a=[]\n",
    "    b=[]\n",
    "    c=[]\n",
    "    while num>0:\n",
    "        digit=num%10\n",
    "        count.append(digit)\n",
    "        num=num//10\n",
    "    count=count[::-1]\n",
    "    #count=count[:-1]\n",
    "    d=len(count)\n",
    "    while d>0:\n",
    "        for i in count:\n",
    "            i*=10**d\n",
    "            a.append(i)\n",
    "            d-=1\n",
    "    for i in a:\n",
    "        if i>0:\n",
    "            b.append(i)\n",
    "    b=b[::-1]\n",
    "    b=map(str,b)\n",
    "    for i in b:\n",
    "        c.append(i[:-1])\n",
    "    e=' '.join(c)\n",
    "    return e"
   ]
  },
  {
   "cell_type": "code",
   "execution_count": 265,
   "id": "9faf7013",
   "metadata": {},
   "outputs": [
    {
     "data": {
      "text/plain": [
       "'10 200 40000 500000'"
      ]
     },
     "execution_count": 265,
     "metadata": {},
     "output_type": "execute_result"
    }
   ],
   "source": [
    "sum_round(540210)"
   ]
  },
  {
   "cell_type": "code",
   "execution_count": 264,
   "id": "257728c2",
   "metadata": {},
   "outputs": [
    {
     "data": {
      "text/plain": [
       "'1 100'"
      ]
     },
     "execution_count": 264,
     "metadata": {},
     "output_type": "execute_result"
    }
   ],
   "source": [
    "sum_round(101)"
   ]
  },
  {
   "cell_type": "code",
   "execution_count": 290,
   "id": "842a1044",
   "metadata": {},
   "outputs": [],
   "source": [
    "## Q4.\n",
    "def multiplication_table(n):\n",
    "    num=n\n",
    "    count=1\n",
    "    final=[]\n",
    "    while num>0:\n",
    "        list_1=[]\n",
    "        for i in range(count,count*n+1,count):\n",
    "            list_1.append(i)\n",
    "        final.append(list_1)\n",
    "        count+=1\n",
    "        num-=1\n",
    "    return final"
   ]
  },
  {
   "cell_type": "code",
   "execution_count": 291,
   "id": "bbdced62",
   "metadata": {},
   "outputs": [
    {
     "data": {
      "text/plain": [
       "[[1, 2, 3, 4, 5],\n",
       " [2, 4, 6, 8, 10],\n",
       " [3, 6, 9, 12, 15],\n",
       " [4, 8, 12, 16, 20],\n",
       " [5, 10, 15, 20, 25]]"
      ]
     },
     "execution_count": 291,
     "metadata": {},
     "output_type": "execute_result"
    }
   ],
   "source": [
    "multiplication_table(5)"
   ]
  },
  {
   "cell_type": "code",
   "execution_count": 292,
   "id": "7210b4bb",
   "metadata": {},
   "outputs": [
    {
     "data": {
      "text/plain": [
       "[[1, 2, 3], [2, 4, 6], [3, 6, 9]]"
      ]
     },
     "execution_count": 292,
     "metadata": {},
     "output_type": "execute_result"
    }
   ],
   "source": [
    "multiplication_table(3)"
   ]
  },
  {
   "cell_type": "code",
   "execution_count": 293,
   "id": "a968ce3a",
   "metadata": {},
   "outputs": [
    {
     "data": {
      "text/plain": [
       "[[1]]"
      ]
     },
     "execution_count": 293,
     "metadata": {},
     "output_type": "execute_result"
    }
   ],
   "source": [
    "multiplication_table(1)"
   ]
  },
  {
   "cell_type": "code",
   "execution_count": 299,
   "id": "81a0ae87",
   "metadata": {},
   "outputs": [],
   "source": [
    "## Q5.\n",
    "def does_rhyme(s1,s2):\n",
    "    vow=['a','e','i','o','u']\n",
    "    s1_dic={}\n",
    "    s2_dic={}\n",
    "    s1=s1.split()[-1]\n",
    "    s2=s2.split()[-1]\n",
    "    for i in s1:\n",
    "        i=i.lower()\n",
    "        if i in vow:\n",
    "            s1_dic[i]=1\n",
    "    for i in s2:\n",
    "        i=i.lower()\n",
    "        if i in vow:\n",
    "            s2_dic[i]=1\n",
    "    if s1_dic==s2_dic:\n",
    "        return True\n",
    "    else:\n",
    "        return False"
   ]
  },
  {
   "cell_type": "code",
   "execution_count": 301,
   "id": "c5abd93e",
   "metadata": {},
   "outputs": [
    {
     "data": {
      "text/plain": [
       "True"
      ]
     },
     "execution_count": 301,
     "metadata": {},
     "output_type": "execute_result"
    }
   ],
   "source": [
    "does_rhyme(\"Sam I am!\",\"Green eggs and HAM.\")"
   ]
  },
  {
   "cell_type": "code",
   "execution_count": 303,
   "id": "7b8f83fc",
   "metadata": {},
   "outputs": [
    {
     "data": {
      "text/plain": [
       "False"
      ]
     },
     "execution_count": 303,
     "metadata": {},
     "output_type": "execute_result"
    }
   ],
   "source": [
    "does_rhyme(\"Sam I am!\",\"Green eggs and HdfeM.\")"
   ]
  },
  {
   "cell_type": "code",
   "execution_count": null,
   "id": "295fd0e0",
   "metadata": {},
   "outputs": [],
   "source": []
  }
 ],
 "metadata": {
  "kernelspec": {
   "display_name": "Python 3",
   "language": "python",
   "name": "python3"
  },
  "language_info": {
   "codemirror_mode": {
    "name": "ipython",
    "version": 3
   },
   "file_extension": ".py",
   "mimetype": "text/x-python",
   "name": "python",
   "nbconvert_exporter": "python",
   "pygments_lexer": "ipython3",
   "version": "3.9.13"
  }
 },
 "nbformat": 4,
 "nbformat_minor": 5
}
