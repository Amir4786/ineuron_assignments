{
 "cells": [
  {
   "cell_type": "code",
   "execution_count": 36,
   "id": "c1a538e8",
   "metadata": {},
   "outputs": [],
   "source": [
    "## Q1.\n",
    "def track_robot(l):\n",
    "    d={}\n",
    "    x=0\n",
    "    y=0\n",
    "    for i in l:\n",
    "        dirt,val= i.split()\n",
    "        val=int(val)\n",
    "        if dirt in d:\n",
    "            d[dirt].append(val)\n",
    "        else:\n",
    "            d[dirt]=[val]\n",
    "    for k,v in d.items():\n",
    "        v=sum(v)\n",
    "        if k==\"right\":\n",
    "            x+=v\n",
    "        elif k==\"left\":\n",
    "            x-=v\n",
    "        if k==\"up\":\n",
    "            y+=v\n",
    "        if k==\"down\":\n",
    "            y-=v\n",
    "    final=[x,y]\n",
    "    return final"
   ]
  },
  {
   "cell_type": "code",
   "execution_count": 37,
   "id": "44547b85",
   "metadata": {},
   "outputs": [
    {
     "data": {
      "text/plain": [
       "[-20, 30]"
      ]
     },
     "execution_count": 37,
     "metadata": {},
     "output_type": "execute_result"
    }
   ],
   "source": [
    "track_robot([\"right 10\",\"up 40\",\"left 30\",\"down 10\"])"
   ]
  },
  {
   "cell_type": "code",
   "execution_count": 38,
   "id": "528b8b3b",
   "metadata": {},
   "outputs": [
    {
     "data": {
      "text/plain": [
       "[170, -9600]"
      ]
     },
     "execution_count": 38,
     "metadata": {},
     "output_type": "execute_result"
    }
   ],
   "source": [
    "track_robot([\"right 100\",\"right 100\",\"up 400\",\"left 30\",\"down 10000\"])"
   ]
  },
  {
   "cell_type": "code",
   "execution_count": 43,
   "id": "ee736dac",
   "metadata": {},
   "outputs": [],
   "source": [
    "## Q2.\n",
    "def find_longest(s):\n",
    "    s=s.split()\n",
    "    for i in range(len(s)):\n",
    "        for j in range(i+1,len(s)):\n",
    "            if s[i]>=s[j]:\n",
    "                s[i],s[j]=s[j],s[i]\n",
    "    return s[-1]"
   ]
  },
  {
   "cell_type": "code",
   "execution_count": 46,
   "id": "d2d77aad",
   "metadata": {},
   "outputs": [
    {
     "data": {
      "text/plain": [
       "'pathaan'"
      ]
     },
     "execution_count": 46,
     "metadata": {},
     "output_type": "execute_result"
    }
   ],
   "source": [
    "find_longest(\"My name is pathaan hey hello\")"
   ]
  },
  {
   "cell_type": "code",
   "execution_count": 51,
   "id": "93b70c3c",
   "metadata": {},
   "outputs": [],
   "source": [
    "## Q3.\n",
    "def interview(l,t):\n",
    "    if len(l)<8 or t>120: return \"disqualified\"\n",
    "    if l[0]<=5 and l[1]<=5 and l[2]<=10 and l[3]<=10 and l[4]<=15 and l[5]<=15 and l[6]<=20 and l[7]<=20 and t<=120:\n",
    "        return \"qualified\"\n",
    "    else:\n",
    "        return \"disqualified\""
   ]
  },
  {
   "cell_type": "code",
   "execution_count": 52,
   "id": "e6ccd8a1",
   "metadata": {},
   "outputs": [
    {
     "data": {
      "text/plain": [
       "'qualified'"
      ]
     },
     "execution_count": 52,
     "metadata": {},
     "output_type": "execute_result"
    }
   ],
   "source": [
    "interview([5,5,10,10,15,15,20,20],120)"
   ]
  },
  {
   "cell_type": "code",
   "execution_count": 53,
   "id": "6850b080",
   "metadata": {},
   "outputs": [
    {
     "data": {
      "text/plain": [
       "'disqualified'"
      ]
     },
     "execution_count": 53,
     "metadata": {},
     "output_type": "execute_result"
    }
   ],
   "source": [
    "interview([5,5,10,10,15,15,20,20],130)"
   ]
  },
  {
   "cell_type": "code",
   "execution_count": 54,
   "id": "c9445dad",
   "metadata": {},
   "outputs": [
    {
     "data": {
      "text/plain": [
       "'disqualified'"
      ]
     },
     "execution_count": 54,
     "metadata": {},
     "output_type": "execute_result"
    }
   ],
   "source": [
    "interview([5,5,10,12,5,15,20,20],100)"
   ]
  },
  {
   "cell_type": "code",
   "execution_count": 55,
   "id": "a1d648d8",
   "metadata": {},
   "outputs": [
    {
     "data": {
      "text/plain": [
       "'qualified'"
      ]
     },
     "execution_count": 55,
     "metadata": {},
     "output_type": "execute_result"
    }
   ],
   "source": [
    "interview([2,5,7,10,10,15,20,20],64)"
   ]
  },
  {
   "cell_type": "code",
   "execution_count": 115,
   "id": "2bd2f3ff",
   "metadata": {},
   "outputs": [],
   "source": [
    "## Q4.\n",
    "def chunkify(l,n):\n",
    "    b=[]\n",
    "    if len(l)%n!=0: return [l]\n",
    "    else:\n",
    "        num=len(l)/n\n",
    "        r=0\n",
    "        while num>0:\n",
    "            a=[]\n",
    "            for i in range(r,r+n):\n",
    "                if r+n<=len(l):\n",
    "                    a.append(l[i])\n",
    "            b.append(a)\n",
    "            r+=n\n",
    "            num-=1\n",
    "    return b"
   ]
  },
  {
   "cell_type": "code",
   "execution_count": 116,
   "id": "380ea5a1",
   "metadata": {},
   "outputs": [
    {
     "data": {
      "text/plain": [
       "[[1, 2], [3, 4], [5, 6], [9, 8], [7, 1]]"
      ]
     },
     "execution_count": 116,
     "metadata": {},
     "output_type": "execute_result"
    }
   ],
   "source": [
    "chunkify([1,2,3,4,5,6,9,8,7,1],2)"
   ]
  },
  {
   "cell_type": "code",
   "execution_count": 117,
   "id": "009be8b6",
   "metadata": {},
   "outputs": [
    {
     "data": {
      "text/plain": [
       "[[5], [4], [7]]"
      ]
     },
     "execution_count": 117,
     "metadata": {},
     "output_type": "execute_result"
    }
   ],
   "source": [
    "chunkify([5,4,7],1)"
   ]
  },
  {
   "cell_type": "code",
   "execution_count": 138,
   "id": "d4728a0a",
   "metadata": {},
   "outputs": [],
   "source": [
    "## Q5.\n",
    "def get_prices(l):\n",
    "    a=[]\n",
    "    for i in l:\n",
    "        _,i=i.split(\"$\")\n",
    "        i=float(i[:-1])\n",
    "        a.append(i)\n",
    "    return a"
   ]
  },
  {
   "cell_type": "code",
   "execution_count": 140,
   "id": "a075f6f8",
   "metadata": {},
   "outputs": [
    {
     "data": {
      "text/plain": [
       "[4.99]"
      ]
     },
     "execution_count": 140,
     "metadata": {},
     "output_type": "execute_result"
    }
   ],
   "source": [
    "get_prices([\"salad ($4.99)\"])"
   ]
  },
  {
   "cell_type": "code",
   "execution_count": 142,
   "id": "04d2d111",
   "metadata": {},
   "outputs": [
    {
     "data": {
      "text/plain": [
       "[4.99, 0.75, 0.2, 100.9]"
      ]
     },
     "execution_count": 142,
     "metadata": {},
     "output_type": "execute_result"
    }
   ],
   "source": [
    "get_prices([\"salad ($4.99)\",\"gum ($0.75)\",\"banana ($0.20)\",\"fruit bucket ($100.90)\"])"
   ]
  },
  {
   "cell_type": "code",
   "execution_count": null,
   "id": "44539a22",
   "metadata": {},
   "outputs": [],
   "source": []
  }
 ],
 "metadata": {
  "kernelspec": {
   "display_name": "Python 3",
   "language": "python",
   "name": "python3"
  },
  "language_info": {
   "codemirror_mode": {
    "name": "ipython",
    "version": 3
   },
   "file_extension": ".py",
   "mimetype": "text/x-python",
   "name": "python",
   "nbconvert_exporter": "python",
   "pygments_lexer": "ipython3",
   "version": "3.9.13"
  }
 },
 "nbformat": 4,
 "nbformat_minor": 5
}
