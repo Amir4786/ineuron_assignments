{
 "cells": [
  {
   "cell_type": "code",
   "execution_count": 27,
   "id": "88fc68aa",
   "metadata": {},
   "outputs": [],
   "source": [
    "## Q1.\n",
    "def find_the_difference(s,t):\n",
    "    a=\"\"\n",
    "    for i in range(len(s)):\n",
    "        if s[i]!=t[i]:\n",
    "            a+=t[i]\n",
    "    if len(s)<len(t):\n",
    "        a+=t[len(s):]\n",
    "    return a"
   ]
  },
  {
   "cell_type": "code",
   "execution_count": 28,
   "id": "b2250c15",
   "metadata": {},
   "outputs": [
    {
     "data": {
      "text/plain": [
       "'h'"
      ]
     },
     "execution_count": 28,
     "metadata": {},
     "output_type": "execute_result"
    }
   ],
   "source": [
    "find_the_difference(\"abcd\",\"abcdh\")"
   ]
  },
  {
   "cell_type": "code",
   "execution_count": 30,
   "id": "64ed56b0",
   "metadata": {},
   "outputs": [
    {
     "data": {
      "text/plain": [
       "'y'"
      ]
     },
     "execution_count": 30,
     "metadata": {},
     "output_type": "execute_result"
    }
   ],
   "source": [
    "find_the_difference(\"\",\"y\")"
   ]
  },
  {
   "cell_type": "code",
   "execution_count": 41,
   "id": "ff865c85",
   "metadata": {},
   "outputs": [],
   "source": [
    "## Q2.\n",
    "def count_datatypes(*args):\n",
    "    types= {\"integer\":0, \"string\":0, \"boolean\":0, \"list\":0, \"tuple\":0, \"dictionary\":0}\n",
    "    a=[]\n",
    "    for i in args:\n",
    "        if type(i)==int:\n",
    "            types[\"integer\"]+=1\n",
    "        elif type(i)==str:\n",
    "            types[\"string\"]+=1\n",
    "        elif type(i)==bool:\n",
    "            types[\"boolean\"]+=1\n",
    "        elif type(i)==list:\n",
    "            types[\"list\"]+=1\n",
    "        elif type(i)==tuple:\n",
    "            types[\"tuple\"]+=1\n",
    "        elif type(i)==dict:\n",
    "            types[\"dictionary\"]+=1\n",
    "    for k,v in types.items():\n",
    "        a.append(v)\n",
    "    return a"
   ]
  },
  {
   "cell_type": "code",
   "execution_count": 42,
   "id": "edc38d28",
   "metadata": {},
   "outputs": [
    {
     "data": {
      "text/plain": [
       "[2, 1, 0, 0, 0, 0]"
      ]
     },
     "execution_count": 42,
     "metadata": {},
     "output_type": "execute_result"
    }
   ],
   "source": [
    "count_datatypes(1,5,'hi')"
   ]
  },
  {
   "cell_type": "code",
   "execution_count": 44,
   "id": "5e939336",
   "metadata": {},
   "outputs": [
    {
     "data": {
      "text/plain": [
       "[1, 3, 3, 2, 1, 1]"
      ]
     },
     "execution_count": 44,
     "metadata": {},
     "output_type": "execute_result"
    }
   ],
   "source": [
    "count_datatypes(\"hello\",\"bye\",True,False,False,{\"male\":5,\"females\":10},[\"apple\",\"banana\",\"guava\"],85,\"what's up!\",[\"fish\",\"animal\"],('yes','no'))"
   ]
  },
  {
   "cell_type": "code",
   "execution_count": 90,
   "id": "a8b00cc8",
   "metadata": {},
   "outputs": [],
   "source": [
    "## Q3.\n",
    "def fib_str(x,y):\n",
    "    a=[]\n",
    "    for i in range(x):\n",
    "        if len(a)>1:\n",
    "            a.append(a[-1]+a[-2])\n",
    "        else:\n",
    "            a.append(y[i])\n",
    "    a=\", \".join(a)\n",
    "    return a"
   ]
  },
  {
   "cell_type": "code",
   "execution_count": 91,
   "id": "a2e375e5",
   "metadata": {},
   "outputs": [
    {
     "data": {
      "text/plain": [
       "'e, a, ae, aea, aeaae'"
      ]
     },
     "execution_count": 91,
     "metadata": {},
     "output_type": "execute_result"
    }
   ],
   "source": [
    "fib_str(5,['e','a'])"
   ]
  },
  {
   "cell_type": "code",
   "execution_count": 95,
   "id": "2338607d",
   "metadata": {},
   "outputs": [],
   "source": [
    "## Q4.\n",
    "def ones_threes_nines(x):\n",
    "    ones=0\n",
    "    threes=0\n",
    "    nines=0\n",
    "    a=x\n",
    "    if a-9>=0:\n",
    "        nines+=1\n",
    "        a-=9\n",
    "    if a-9>=0:\n",
    "        nines+=1\n",
    "        a-=9\n",
    "    if a-3>=0:\n",
    "        threes+=1\n",
    "        a-=3\n",
    "    if a-3>=0:\n",
    "        threes+=1\n",
    "        a-=3\n",
    "    else:\n",
    "        ones+=a\n",
    "    return f\"nines:{nines}, threes:{threes}, ones:{ones}\""
   ]
  },
  {
   "cell_type": "code",
   "execution_count": 98,
   "id": "3d79e0f7",
   "metadata": {},
   "outputs": [
    {
     "data": {
      "text/plain": [
       "'nines:2, threes:1, ones:1'"
      ]
     },
     "execution_count": 98,
     "metadata": {},
     "output_type": "execute_result"
    }
   ],
   "source": [
    "ones_threes_nines(22)"
   ]
  },
  {
   "cell_type": "code",
   "execution_count": 99,
   "id": "3e1a9299",
   "metadata": {},
   "outputs": [],
   "source": [
    "## Q5.\n",
    "def feb(n):\n",
    "    if n==0: return 0\n",
    "    if n==1: return 1\n",
    "    else:\n",
    "        return feb(n-1)+feb(n-2)"
   ]
  },
  {
   "cell_type": "code",
   "execution_count": 100,
   "id": "a7eb56b5",
   "metadata": {},
   "outputs": [
    {
     "data": {
      "text/plain": [
       "1"
      ]
     },
     "execution_count": 100,
     "metadata": {},
     "output_type": "execute_result"
    }
   ],
   "source": [
    "feb(1)"
   ]
  },
  {
   "cell_type": "code",
   "execution_count": 101,
   "id": "a95eac23",
   "metadata": {},
   "outputs": [
    {
     "data": {
      "text/plain": [
       "1"
      ]
     },
     "execution_count": 101,
     "metadata": {},
     "output_type": "execute_result"
    }
   ],
   "source": [
    "feb(2)"
   ]
  },
  {
   "cell_type": "code",
   "execution_count": 102,
   "id": "4e477ab4",
   "metadata": {},
   "outputs": [
    {
     "data": {
      "text/plain": [
       "8"
      ]
     },
     "execution_count": 102,
     "metadata": {},
     "output_type": "execute_result"
    }
   ],
   "source": [
    "feb(6)"
   ]
  },
  {
   "cell_type": "code",
   "execution_count": 103,
   "id": "27e557fa",
   "metadata": {},
   "outputs": [
    {
     "data": {
      "text/plain": [
       "55"
      ]
     },
     "execution_count": 103,
     "metadata": {},
     "output_type": "execute_result"
    }
   ],
   "source": [
    "feb(10)"
   ]
  },
  {
   "cell_type": "code",
   "execution_count": null,
   "id": "0db452a5",
   "metadata": {},
   "outputs": [],
   "source": []
  }
 ],
 "metadata": {
  "kernelspec": {
   "display_name": "Python 3",
   "language": "python",
   "name": "python3"
  },
  "language_info": {
   "codemirror_mode": {
    "name": "ipython",
    "version": 3
   },
   "file_extension": ".py",
   "mimetype": "text/x-python",
   "name": "python",
   "nbconvert_exporter": "python",
   "pygments_lexer": "ipython3",
   "version": "3.9.13"
  }
 },
 "nbformat": 4,
 "nbformat_minor": 5
}
