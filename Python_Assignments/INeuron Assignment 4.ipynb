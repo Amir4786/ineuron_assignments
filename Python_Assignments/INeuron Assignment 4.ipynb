{
 "cells": [
  {
   "cell_type": "code",
   "execution_count": 4,
   "id": "a2f44cd3",
   "metadata": {},
   "outputs": [],
   "source": [
    "## Q1. Fibonacci Series\n",
    "def fib_fast(n):\n",
    "    if n==0: return 0\n",
    "    elif n==1: return 1\n",
    "    else:\n",
    "        return fib_fast(n-1)+fib_fast(n-2)"
   ]
  },
  {
   "cell_type": "code",
   "execution_count": 11,
   "id": "8e5b5bbf",
   "metadata": {},
   "outputs": [
    {
     "name": "stdout",
     "output_type": "stream",
     "text": [
      "5\n",
      "55\n",
      "6765\n"
     ]
    }
   ],
   "source": [
    "print(fib_fast(5))\n",
    "print(fib_fast(10))\n",
    "print(fib_fast(20))\n",
    "#print(fib_fast(50)) (it's hanging)"
   ]
  },
  {
   "cell_type": "code",
   "execution_count": 68,
   "id": "888b8fd7",
   "metadata": {},
   "outputs": [],
   "source": [
    "## Q2.\n",
    "def convert_to_hex(x):\n",
    "    j=[]\n",
    "    a=\"\"\n",
    "    for i in x:\n",
    "        b= i.encode('utf-8').hex()\n",
    "        j.append(b+\" \")\n",
    "    for i in j:\n",
    "        a+=\"\".join(i)\n",
    "    return a"
   ]
  },
  {
   "cell_type": "code",
   "execution_count": 76,
   "id": "a45e9d17",
   "metadata": {},
   "outputs": [
    {
     "name": "stdout",
     "output_type": "stream",
     "text": [
      "68 65 6c 6c 6f 20 77 6f 72 6c 64 \n",
      "type:  <class 'str'>\n",
      "42 69 67 20 42 6f 69 \n",
      "type:  <class 'str'>\n",
      "4d 61 72 74 79 20 50 6f 70 70 69 6e 73 6f 6e \n",
      "type:  <class 'str'>\n"
     ]
    }
   ],
   "source": [
    "a= convert_to_hex(\"hello world\")\n",
    "b= convert_to_hex(\"Big Boi\")\n",
    "c= convert_to_hex(\"Marty Poppinson\")\n",
    "print(a)\n",
    "print(\"type: \",type(a))\n",
    "print(b)\n",
    "print(\"type: \",type(b))\n",
    "print(c)\n",
    "print(\"type: \",type(c))"
   ]
  },
  {
   "cell_type": "code",
   "execution_count": 79,
   "id": "ad12357f",
   "metadata": {},
   "outputs": [],
   "source": [
    "## Q3.\n",
    "def uncensor(x,y):\n",
    "    h=\"\"\n",
    "    j=0\n",
    "    for i in x:\n",
    "        if i=='*':\n",
    "            i=y[j]\n",
    "            h+=\"\".join(i)\n",
    "            j+=1\n",
    "        else:\n",
    "            h+=\"\".join(i)\n",
    "    return h"
   ]
  },
  {
   "cell_type": "code",
   "execution_count": 82,
   "id": "a1d48dba",
   "metadata": {},
   "outputs": [
    {
     "data": {
      "text/plain": [
       "'UPPERCASE'"
      ]
     },
     "execution_count": 82,
     "metadata": {},
     "output_type": "execute_result"
    }
   ],
   "source": [
    "uncensor(\"*PP*RC*S*\",\"UEAE\")"
   ]
  },
  {
   "cell_type": "code",
   "execution_count": 81,
   "id": "1d86b63c",
   "metadata": {},
   "outputs": [
    {
     "data": {
      "text/plain": [
       "'abcd'"
      ]
     },
     "execution_count": 81,
     "metadata": {},
     "output_type": "execute_result"
    }
   ],
   "source": [
    "uncensor(\"abcd\",\"\")"
   ]
  },
  {
   "cell_type": "code",
   "execution_count": 85,
   "id": "a3507a30",
   "metadata": {},
   "outputs": [],
   "source": [
    "## Q4.\n",
    "import socket\n",
    "def get_domain(x):\n",
    "    name= socket.gethostbyaddr(x)\n",
    "    return name[0]"
   ]
  },
  {
   "cell_type": "code",
   "execution_count": 86,
   "id": "0a7e2e4d",
   "metadata": {},
   "outputs": [
    {
     "data": {
      "text/plain": [
       "'dns.google'"
      ]
     },
     "execution_count": 86,
     "metadata": {},
     "output_type": "execute_result"
    }
   ],
   "source": [
    "get_domain(\"8.8.8.8\")"
   ]
  },
  {
   "cell_type": "code",
   "execution_count": 89,
   "id": "3428ebfc",
   "metadata": {},
   "outputs": [
    {
     "data": {
      "text/plain": [
       "'dns.google'"
      ]
     },
     "execution_count": 89,
     "metadata": {},
     "output_type": "execute_result"
    }
   ],
   "source": [
    "get_domain(\"8.8.4.4\")"
   ]
  },
  {
   "cell_type": "code",
   "execution_count": 112,
   "id": "f184f6f6",
   "metadata": {},
   "outputs": [],
   "source": [
    "## Q5.\n",
    "def fact_of_fact(x):\n",
    "    a=1\n",
    "    for i in range(1,x+1):\n",
    "        a*=fact(i)\n",
    "    return a\n",
    "def fact(x):\n",
    "    a=1\n",
    "    for i in range(1,x+1):\n",
    "        a*=i\n",
    "    return a"
   ]
  },
  {
   "cell_type": "code",
   "execution_count": 113,
   "id": "ac6fb1fb",
   "metadata": {},
   "outputs": [
    {
     "data": {
      "text/plain": [
       "24"
      ]
     },
     "execution_count": 113,
     "metadata": {},
     "output_type": "execute_result"
    }
   ],
   "source": [
    "fact(4)"
   ]
  },
  {
   "cell_type": "code",
   "execution_count": 114,
   "id": "d2df5824",
   "metadata": {},
   "outputs": [
    {
     "data": {
      "text/plain": [
       "34560"
      ]
     },
     "execution_count": 114,
     "metadata": {},
     "output_type": "execute_result"
    }
   ],
   "source": [
    "fact_of_fact(5)"
   ]
  },
  {
   "cell_type": "code",
   "execution_count": null,
   "id": "fcdf38f2",
   "metadata": {},
   "outputs": [],
   "source": []
  }
 ],
 "metadata": {
  "kernelspec": {
   "display_name": "Python 3",
   "language": "python",
   "name": "python3"
  },
  "language_info": {
   "codemirror_mode": {
    "name": "ipython",
    "version": 3
   },
   "file_extension": ".py",
   "mimetype": "text/x-python",
   "name": "python",
   "nbconvert_exporter": "python",
   "pygments_lexer": "ipython3",
   "version": "3.9.13"
  }
 },
 "nbformat": 4,
 "nbformat_minor": 5
}
