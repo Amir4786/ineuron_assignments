{
 "cells": [
  {
   "cell_type": "code",
   "execution_count": 30,
   "id": "5d5e659a",
   "metadata": {},
   "outputs": [],
   "source": [
    "## Q1.\n",
    "def anagram(s,l):\n",
    "    string_dic={}\n",
    "    list_dic={}\n",
    "    s=s.split()\n",
    "    for i in s:\n",
    "        i=i.lower()\n",
    "        for j in i:\n",
    "            if j not in string_dic:\n",
    "                string_dic[j]=1\n",
    "            else:\n",
    "                string_dic[j]+=1\n",
    "    for i in l:\n",
    "        i=i.lower()\n",
    "        for j in i:\n",
    "            if j not in list_dic:\n",
    "                list_dic[j]=1\n",
    "            else:\n",
    "                list_dic[j]+=1\n",
    "    if string_dic==list_dic:\n",
    "        return True\n",
    "    else:\n",
    "        return False"
   ]
  },
  {
   "cell_type": "code",
   "execution_count": 31,
   "id": "820a6dc9",
   "metadata": {},
   "outputs": [
    {
     "data": {
      "text/plain": [
       "True"
      ]
     },
     "execution_count": 31,
     "metadata": {},
     "output_type": "execute_result"
    }
   ],
   "source": [
    "anagram(\"Justin Bieber\",[\"injures\",\"ebb\",\"it\"])"
   ]
  },
  {
   "cell_type": "code",
   "execution_count": 32,
   "id": "9c2a9ee8",
   "metadata": {},
   "outputs": [
    {
     "data": {
      "text/plain": [
       "False"
      ]
     },
     "execution_count": 32,
     "metadata": {},
     "output_type": "execute_result"
    }
   ],
   "source": [
    "anagram(\"Chris Pratt\",[\"chrips\",\"rat\"])"
   ]
  },
  {
   "cell_type": "code",
   "execution_count": 33,
   "id": "4bb8975f",
   "metadata": {},
   "outputs": [
    {
     "data": {
      "text/plain": [
       "True"
      ]
     },
     "execution_count": 33,
     "metadata": {},
     "output_type": "execute_result"
    }
   ],
   "source": [
    "anagram(\"Jeff Goldblum\",[\"jog\",\"meld\",\"bluff\"])"
   ]
  },
  {
   "cell_type": "code",
   "execution_count": 34,
   "id": "ea8013b1",
   "metadata": {},
   "outputs": [
    {
     "data": {
      "text/plain": [
       "False"
      ]
     },
     "execution_count": 34,
     "metadata": {},
     "output_type": "execute_result"
    }
   ],
   "source": [
    "anagram(\"Jeff Goldblum\",[\"jog\",\"meld\",\"bluffs\"])"
   ]
  },
  {
   "cell_type": "code",
   "execution_count": 68,
   "id": "af09f81a",
   "metadata": {},
   "outputs": [],
   "source": [
    "## Q2.\n",
    "def leaderboards(l):\n",
    "    final={}\n",
    "    final_2=[]\n",
    "    for i in l:\n",
    "        score=i[\"score\"]\n",
    "        rep= i[\"reputation\"]\n",
    "        truescore= score+2*rep\n",
    "        final[truescore]=i\n",
    "    mykeys=final.keys()\n",
    "    mykeys=list(mykeys)\n",
    "    for i in range(len(mykeys)):\n",
    "        for j in range(i+1,len(mykeys)):\n",
    "            if mykeys[i]<=mykeys[j]:\n",
    "                mykeys[i],mykeys[j]=mykeys[j],mykeys[i]\n",
    "    for i in mykeys:\n",
    "        i=final[i]\n",
    "        final_2.append(i)\n",
    "    return final_2"
   ]
  },
  {
   "cell_type": "code",
   "execution_count": 69,
   "id": "2e622227",
   "metadata": {},
   "outputs": [
    {
     "data": {
      "text/plain": [
       "[{'name': {100: 'kl'}, 'score': 115, 'reputation': 30},\n",
       " {'name': {100: 'kl'}, 'score': 90, 'reputation': 40},\n",
       " {'name': {100: 'kl'}, 'score': 100, 'reputation': 20}]"
      ]
     },
     "execution_count": 69,
     "metadata": {},
     "output_type": "execute_result"
    }
   ],
   "source": [
    "leaderboards([\n",
    "    {\"name\":a,\"score\":100,\"reputation\":20},\n",
    "    {\"name\":a,\"score\":90,\"reputation\":40},\n",
    "    {\"name\":a,\"score\":115,\"reputation\":30}\n",
    "])"
   ]
  },
  {
   "cell_type": "code",
   "execution_count": 88,
   "id": "d5e3ec76",
   "metadata": {},
   "outputs": [],
   "source": [
    "## Q3.\n",
    "def hangman(s,l):\n",
    "    b=''\n",
    "    for i in s:\n",
    "        if ((i in l) or (i.lower() in l) or(i.upper() in l)):\n",
    "            b+=\"\".join(i)\n",
    "        elif i==\" \" or i==\"!\" or i==\".\":\n",
    "            b+=\"\".join(i)\n",
    "        else:\n",
    "            b+=\"\".join('-')\n",
    "    return b"
   ]
  },
  {
   "cell_type": "code",
   "execution_count": 89,
   "id": "deba5f05",
   "metadata": {},
   "outputs": [
    {
     "data": {
      "text/plain": [
       "'-e---o--e-'"
      ]
     },
     "execution_count": 89,
     "metadata": {},
     "output_type": "execute_result"
    }
   ],
   "source": [
    "hangman(\"helicopter\",[\"o\",\"E\",\"s\"])"
   ]
  },
  {
   "cell_type": "code",
   "execution_count": 90,
   "id": "0fb7ea82",
   "metadata": {},
   "outputs": [
    {
     "data": {
      "text/plain": [
       "'tree'"
      ]
     },
     "execution_count": 90,
     "metadata": {},
     "output_type": "execute_result"
    }
   ],
   "source": [
    "hangman(\"tree\",[\"R\",\"e\",\"t\"])"
   ]
  },
  {
   "cell_type": "code",
   "execution_count": 91,
   "id": "9cb947d5",
   "metadata": {},
   "outputs": [
    {
     "data": {
      "text/plain": [
       "'H- -- -a-e -s P--h--!'"
      ]
     },
     "execution_count": 91,
     "metadata": {},
     "output_type": "execute_result"
    }
   ],
   "source": [
    "hangman(\"Hi my name is Python!\",[\"p\",\"h\",\"a\",\"e\",\"s\"])"
   ]
  },
  {
   "cell_type": "code",
   "execution_count": 114,
   "id": "d3477b37",
   "metadata": {},
   "outputs": [],
   "source": [
    "## Q4.\n",
    "def max_collatz(n):\n",
    "    num=n\n",
    "    b=[]\n",
    "    while num>1:\n",
    "        b.append(num)\n",
    "        if num%2==0:\n",
    "            num=num//2\n",
    "        else:\n",
    "            num=num*3+1\n",
    "    for i in range(len(b)):\n",
    "        for j in range(i+1,len(b)):\n",
    "            if b[i]<=b[j]:\n",
    "                b[i],b[j]=b[j],b[i]\n",
    "    return b[0]"
   ]
  },
  {
   "cell_type": "code",
   "execution_count": 115,
   "id": "09ad668e",
   "metadata": {},
   "outputs": [
    {
     "data": {
      "text/plain": [
       "16"
      ]
     },
     "execution_count": 115,
     "metadata": {},
     "output_type": "execute_result"
    }
   ],
   "source": [
    "max_collatz(10)"
   ]
  },
  {
   "cell_type": "code",
   "execution_count": 118,
   "id": "84d82c20",
   "metadata": {},
   "outputs": [
    {
     "data": {
      "text/plain": [
       "256"
      ]
     },
     "execution_count": 118,
     "metadata": {},
     "output_type": "execute_result"
    }
   ],
   "source": [
    "max_collatz(85)"
   ]
  },
  {
   "cell_type": "code",
   "execution_count": 119,
   "id": "4218a2bf",
   "metadata": {},
   "outputs": [
    {
     "data": {
      "text/plain": [
       "32"
      ]
     },
     "execution_count": 119,
     "metadata": {},
     "output_type": "execute_result"
    }
   ],
   "source": [
    "max_collatz(32)"
   ]
  },
  {
   "cell_type": "code",
   "execution_count": 440,
   "id": "a1cdee17",
   "metadata": {},
   "outputs": [],
   "source": [
    "## Q5.\n",
    "def digit_sort(l):\n",
    "    start=[]\n",
    "    b=-1\n",
    "    a=0\n",
    "    c=[]\n",
    "    d={}\n",
    "    final=[]\n",
    "    for i in range(len(l)):\n",
    "        for j in range(i+1,len(l)):\n",
    "            if l[i]<=l[j]:\n",
    "                l[i],l[j]=l[j],l[i]\n",
    "    maxi=l[0]\n",
    "    count=-1\n",
    "    while maxi>0:\n",
    "        maxi=maxi//10\n",
    "        count+=1\n",
    "    num=10**count\n",
    "    for i in range(count+1):\n",
    "        start.append(num)\n",
    "        num=num//10\n",
    "    for i in l:\n",
    "        for j in start:\n",
    "            if i/j>=1:\n",
    "                c.append(i)\n",
    "    for i in c:\n",
    "        if i in d:\n",
    "            d[i]+=1\n",
    "        else:\n",
    "            d[i]=1\n",
    "    new_dic={}\n",
    "    for k,v in d.items():\n",
    "        if v in new_dic:\n",
    "            new_dic[v].append(k)\n",
    "        else:\n",
    "            new_dic[v]=[k]\n",
    "    a=list(new_dic.values())\n",
    "    for i in a:\n",
    "        for j in range(len(i)):\n",
    "            for k in range(j+1,len(i)):\n",
    "                if i[j]>=i[k]:\n",
    "                    i[j],i[k]=i[k],i[j]\n",
    "    for i in a:\n",
    "        for j in i:\n",
    "            final.append(j)\n",
    "    return final"
   ]
  },
  {
   "cell_type": "code",
   "execution_count": 441,
   "id": "ffe6bfb1",
   "metadata": {},
   "outputs": [
    {
     "data": {
      "text/plain": [
       "[1000, 2000, 500, 625, 966, 10, 48, 52, 1, 6]"
      ]
     },
     "execution_count": 441,
     "metadata": {},
     "output_type": "execute_result"
    }
   ],
   "source": [
    "digit_sort([500,625,48,966,1,2000,1000,10,52,6])"
   ]
  },
  {
   "cell_type": "code",
   "execution_count": null,
   "id": "e8a3a08d",
   "metadata": {},
   "outputs": [],
   "source": []
  }
 ],
 "metadata": {
  "kernelspec": {
   "display_name": "Python 3",
   "language": "python",
   "name": "python3"
  },
  "language_info": {
   "codemirror_mode": {
    "name": "ipython",
    "version": 3
   },
   "file_extension": ".py",
   "mimetype": "text/x-python",
   "name": "python",
   "nbconvert_exporter": "python",
   "pygments_lexer": "ipython3",
   "version": "3.9.13"
  }
 },
 "nbformat": 4,
 "nbformat_minor": 5
}
