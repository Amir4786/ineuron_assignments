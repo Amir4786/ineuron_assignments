{
 "cells": [
  {
   "cell_type": "code",
   "execution_count": 26,
   "id": "c35d720f",
   "metadata": {},
   "outputs": [],
   "source": [
    "## Q1.\n",
    "def show_the_love(l):\n",
    "    initial=l\n",
    "    a=[]\n",
    "    b=0\n",
    "    c=[]\n",
    "    for i in range(len(initial)):\n",
    "        for j in range(i+1,len(initial)):\n",
    "            if initial[i]>=initial[j]:\n",
    "                initial[i],initial[j]=initial[j],initial[i]\n",
    "    smallest=initial[0]\n",
    "    for i in l:\n",
    "        if i!=smallest:\n",
    "            a.append(i*0.75)\n",
    "            b+=i*0.25\n",
    "        else:\n",
    "            a.append(i)\n",
    "    for i in a:\n",
    "        if i==smallest:\n",
    "            i+=b\n",
    "            c.append(i)\n",
    "        else:\n",
    "            c.append(i)\n",
    "    return c"
   ]
  },
  {
   "cell_type": "code",
   "execution_count": 27,
   "id": "5ec6f525",
   "metadata": {},
   "outputs": [
    {
     "data": {
      "text/plain": [
       "[3.0, 3.0, 3.0]"
      ]
     },
     "execution_count": 27,
     "metadata": {},
     "output_type": "execute_result"
    }
   ],
   "source": [
    "show_the_love([4,1,4])"
   ]
  },
  {
   "cell_type": "code",
   "execution_count": 28,
   "id": "f232577f",
   "metadata": {},
   "outputs": [
    {
     "data": {
      "text/plain": [
       "[14.5, 7.5, 12.0]"
      ]
     },
     "execution_count": 28,
     "metadata": {},
     "output_type": "execute_result"
    }
   ],
   "source": [
    "show_the_love([16,10,8])"
   ]
  },
  {
   "cell_type": "code",
   "execution_count": 36,
   "id": "7994c8ae",
   "metadata": {},
   "outputs": [],
   "source": [
    "## Q2.\n",
    "def letters(s1,s2):\n",
    "    common=''\n",
    "    unique_s1=''\n",
    "    unique_s2=''\n",
    "    common_u=''\n",
    "    unique_s1_u=''\n",
    "    unique_s2_u=''\n",
    "    for i in s1:\n",
    "        if i in s2:\n",
    "            common+=''.join(i)\n",
    "        else:\n",
    "            unique_s1+=''.join(i)\n",
    "    for i in s2:\n",
    "        if i not in s1:\n",
    "            unique_s2+=''.join(i)\n",
    "    for i in unique_s1:\n",
    "        if i not in unique_s1_u:\n",
    "            unique_s1_u+=''.join(i)\n",
    "    for i in unique_s2:\n",
    "        if i not in unique_s2_u:\n",
    "            unique_s2_u+=''.join(i)\n",
    "    for i in common:\n",
    "        if i not in common_u:\n",
    "            common_u+=''.join(i)\n",
    "    final= [common_u,unique_s1_u,unique_s2_u]\n",
    "    return final"
   ]
  },
  {
   "cell_type": "code",
   "execution_count": 37,
   "id": "3f72ac0c",
   "metadata": {},
   "outputs": [
    {
     "data": {
      "text/plain": [
       "['sap', 'hr', 'o']"
      ]
     },
     "execution_count": 37,
     "metadata": {},
     "output_type": "execute_result"
    }
   ],
   "source": [
    "letters(\"sharp\",\"soap\")"
   ]
  },
  {
   "cell_type": "code",
   "execution_count": 38,
   "id": "64d18069",
   "metadata": {},
   "outputs": [
    {
     "data": {
      "text/plain": [
       "['pne', 'hais', 'vlo']"
      ]
     },
     "execution_count": 38,
     "metadata": {},
     "output_type": "execute_result"
    }
   ],
   "source": [
    "letters(\"happiness\",\"envelope\")"
   ]
  },
  {
   "cell_type": "code",
   "execution_count": 69,
   "id": "1d511325",
   "metadata": {},
   "outputs": [],
   "source": [
    "## Q3.\n",
    "def pairs(l):\n",
    "    l2=[]\n",
    "    for i in range(len(l)):\n",
    "        pair=[l[i],l[len(l)-i-1]]\n",
    "        l2.append(pair)\n",
    "    if len(l2)%2==0:\n",
    "        return l2[:len(l2)//2]\n",
    "    else:\n",
    "        return l2[:len(l2)//2+1]"
   ]
  },
  {
   "cell_type": "code",
   "execution_count": 70,
   "id": "c6953bd2",
   "metadata": {},
   "outputs": [
    {
     "data": {
      "text/plain": [
       "[[1, 6], [2, 5], [3, 4]]"
      ]
     },
     "execution_count": 70,
     "metadata": {},
     "output_type": "execute_result"
    }
   ],
   "source": [
    "pairs([1,2,3,4,5,6])"
   ]
  },
  {
   "cell_type": "code",
   "execution_count": 71,
   "id": "8db4d1dc",
   "metadata": {},
   "outputs": [
    {
     "data": {
      "text/plain": [
       "[[5, 2], [9, 1], [8, 8]]"
      ]
     },
     "execution_count": 71,
     "metadata": {},
     "output_type": "execute_result"
    }
   ],
   "source": [
    "pairs([5,9,8,1,2])"
   ]
  },
  {
   "cell_type": "code",
   "execution_count": 72,
   "id": "6eb49786",
   "metadata": {},
   "outputs": [
    {
     "data": {
      "text/plain": [
       "[]"
      ]
     },
     "execution_count": 72,
     "metadata": {},
     "output_type": "execute_result"
    }
   ],
   "source": [
    "pairs([])"
   ]
  },
  {
   "cell_type": "code",
   "execution_count": 87,
   "id": "6646ee5f",
   "metadata": {},
   "outputs": [],
   "source": [
    "## Q4.\n",
    "def add_str_nums(s1,s2):\n",
    "    if len(s1)==0:\n",
    "        s1=0\n",
    "    if len(s2)==0:\n",
    "        s2=0\n",
    "    s1=int(s1)\n",
    "    s2=int(s2)\n",
    "    return str(s1+s2)"
   ]
  },
  {
   "cell_type": "code",
   "execution_count": 88,
   "id": "28bd5815",
   "metadata": {},
   "outputs": [
    {
     "data": {
      "text/plain": [
       "'9'"
      ]
     },
     "execution_count": 88,
     "metadata": {},
     "output_type": "execute_result"
    }
   ],
   "source": [
    "add_str_nums(\"5\",\"4\")"
   ]
  },
  {
   "cell_type": "code",
   "execution_count": 89,
   "id": "45c6d095",
   "metadata": {},
   "outputs": [
    {
     "data": {
      "text/plain": [
       "'1'"
      ]
     },
     "execution_count": 89,
     "metadata": {},
     "output_type": "execute_result"
    }
   ],
   "source": [
    "add_str_nums(\"1\",\"\")"
   ]
  },
  {
   "cell_type": "code",
   "execution_count": 149,
   "id": "ed675628",
   "metadata": {},
   "outputs": [],
   "source": [
    "## Q5.\n",
    "def unmix(l):\n",
    "    a=[]\n",
    "    b=''\n",
    "    c=[]\n",
    "    d=''\n",
    "    for i in range(len(l)):\n",
    "        b+=''.join(l[i])\n",
    "        if len(b)==2:\n",
    "            a.append(b)\n",
    "            b=''\n",
    "    for i in a:\n",
    "        i=i[1]+i[0]\n",
    "        c.append(i)\n",
    "    c.append(b)\n",
    "    for i in c:\n",
    "        d+=\"\".join(i)\n",
    "    return d"
   ]
  },
  {
   "cell_type": "code",
   "execution_count": 151,
   "id": "e6d11967",
   "metadata": {},
   "outputs": [
    {
     "data": {
      "text/plain": [
       "'abcde'"
      ]
     },
     "execution_count": 151,
     "metadata": {},
     "output_type": "execute_result"
    }
   ],
   "source": [
    "unmix(\"badce\")"
   ]
  },
  {
   "cell_type": "code",
   "execution_count": 154,
   "id": "5687c5b1",
   "metadata": {},
   "outputs": [
    {
     "data": {
      "text/plain": [
       "'This is a mixed up string.'"
      ]
     },
     "execution_count": 154,
     "metadata": {},
     "output_type": "execute_result"
    }
   ],
   "source": [
    "unmix(\"hTsii  s aimex dpus rtni.g\")"
   ]
  },
  {
   "cell_type": "code",
   "execution_count": null,
   "id": "947a48cc",
   "metadata": {},
   "outputs": [],
   "source": []
  }
 ],
 "metadata": {
  "kernelspec": {
   "display_name": "Python 3",
   "language": "python",
   "name": "python3"
  },
  "language_info": {
   "codemirror_mode": {
    "name": "ipython",
    "version": 3
   },
   "file_extension": ".py",
   "mimetype": "text/x-python",
   "name": "python",
   "nbconvert_exporter": "python",
   "pygments_lexer": "ipython3",
   "version": "3.9.13"
  }
 },
 "nbformat": 4,
 "nbformat_minor": 5
}
