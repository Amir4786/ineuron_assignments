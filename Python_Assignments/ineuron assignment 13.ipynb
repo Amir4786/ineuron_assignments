{
 "cells": [
  {
   "cell_type": "code",
   "execution_count": 25,
   "id": "a0b454dc",
   "metadata": {},
   "outputs": [],
   "source": [
    "## Q1.\n",
    "def remove_letters(l,s):\n",
    "    remove={}\n",
    "    remove_2={}\n",
    "    final=[]\n",
    "    for i in l:\n",
    "        if i not in remove:\n",
    "            remove[i]=1\n",
    "        else:\n",
    "            remove[i]+=1\n",
    "    for i in s:\n",
    "        if i not in remove_2:\n",
    "            remove_2[i]=1\n",
    "        else:\n",
    "            remove_2[i]+=1\n",
    "    for i in s:\n",
    "        if remove_2[i]<remove[i]:\n",
    "            a=i*(remove[i]-remove_2[i])\n",
    "            final.append(a)\n",
    "    for i in l:\n",
    "        if i not in s:\n",
    "            final.append(i)\n",
    "    return final"
   ]
  },
  {
   "cell_type": "code",
   "execution_count": 26,
   "id": "fb7b14c8",
   "metadata": {},
   "outputs": [
    {
     "data": {
      "text/plain": [
       "['w']"
      ]
     },
     "execution_count": 26,
     "metadata": {},
     "output_type": "execute_result"
    }
   ],
   "source": [
    "remove_letters(['s','t','r','i','n','g','w'],\"sstring\")"
   ]
  },
  {
   "cell_type": "code",
   "execution_count": 28,
   "id": "d93b1b6a",
   "metadata": {},
   "outputs": [
    {
     "data": {
      "text/plain": [
       "['b', 'g', 'w']"
      ]
     },
     "execution_count": 28,
     "metadata": {},
     "output_type": "execute_result"
    }
   ],
   "source": [
    "remove_letters(['b','b','l','l','g','n','o','a','w'],\"balloon\")"
   ]
  },
  {
   "cell_type": "code",
   "execution_count": 29,
   "id": "d7241ec2",
   "metadata": {},
   "outputs": [
    {
     "data": {
      "text/plain": [
       "[]"
      ]
     },
     "execution_count": 29,
     "metadata": {},
     "output_type": "execute_result"
    }
   ],
   "source": [
    "remove_letters(['b','b','l','l','g','n','o','a','w'],\"balloonbgw\")"
   ]
  },
  {
   "cell_type": "code",
   "execution_count": 35,
   "id": "ac2c7239",
   "metadata": {},
   "outputs": [],
   "source": [
    "## Q2.\n",
    "def blocks(n):\n",
    "    initial=5\n",
    "    update=7\n",
    "    if n==1:\n",
    "        return 5\n",
    "    for i in range(2,n+1):\n",
    "        initial+=update\n",
    "        update+=1\n",
    "    return initial"
   ]
  },
  {
   "cell_type": "code",
   "execution_count": 36,
   "id": "90d40d8f",
   "metadata": {},
   "outputs": [
    {
     "data": {
      "text/plain": [
       "5"
      ]
     },
     "execution_count": 36,
     "metadata": {},
     "output_type": "execute_result"
    }
   ],
   "source": [
    "blocks(1)"
   ]
  },
  {
   "cell_type": "code",
   "execution_count": 37,
   "id": "262ef225",
   "metadata": {},
   "outputs": [
    {
     "data": {
      "text/plain": [
       "12"
      ]
     },
     "execution_count": 37,
     "metadata": {},
     "output_type": "execute_result"
    }
   ],
   "source": [
    "blocks(2)"
   ]
  },
  {
   "cell_type": "code",
   "execution_count": 38,
   "id": "a4c5b128",
   "metadata": {},
   "outputs": [
    {
     "data": {
      "text/plain": [
       "20"
      ]
     },
     "execution_count": 38,
     "metadata": {},
     "output_type": "execute_result"
    }
   ],
   "source": [
    "blocks(3)"
   ]
  },
  {
   "cell_type": "code",
   "execution_count": 39,
   "id": "93027af3",
   "metadata": {},
   "outputs": [
    {
     "data": {
      "text/plain": [
       "29"
      ]
     },
     "execution_count": 39,
     "metadata": {},
     "output_type": "execute_result"
    }
   ],
   "source": [
    "blocks(4)"
   ]
  },
  {
   "cell_type": "code",
   "execution_count": 40,
   "id": "6f96f78e",
   "metadata": {},
   "outputs": [
    {
     "data": {
      "text/plain": [
       "39"
      ]
     },
     "execution_count": 40,
     "metadata": {},
     "output_type": "execute_result"
    }
   ],
   "source": [
    "blocks(5)"
   ]
  },
  {
   "cell_type": "code",
   "execution_count": 54,
   "id": "b2f0c336",
   "metadata": {},
   "outputs": [],
   "source": [
    "## Q3.\n",
    "def my_sub(a,b):\n",
    "    for i in range(a+1):\n",
    "        b-=1\n",
    "    return b+1\n",
    "# 2nd method\n",
    "def my_sub_2(a,b):\n",
    "    c=-1\n",
    "    for i in range(a,b+1):\n",
    "        c+=1\n",
    "    return c"
   ]
  },
  {
   "cell_type": "code",
   "execution_count": 55,
   "id": "4af58211",
   "metadata": {},
   "outputs": [
    {
     "data": {
      "text/plain": [
       "20"
      ]
     },
     "execution_count": 55,
     "metadata": {},
     "output_type": "execute_result"
    }
   ],
   "source": [
    "my_sub(10,30)"
   ]
  },
  {
   "cell_type": "code",
   "execution_count": 57,
   "id": "8cc5baa2",
   "metadata": {},
   "outputs": [
    {
     "data": {
      "text/plain": [
       "15"
      ]
     },
     "execution_count": 57,
     "metadata": {},
     "output_type": "execute_result"
    }
   ],
   "source": [
    "my_sub_2(15,30)"
   ]
  },
  {
   "cell_type": "code",
   "execution_count": 102,
   "id": "2c7dce5f",
   "metadata": {},
   "outputs": [],
   "source": [
    "## Q4.\n",
    "def add_bill(s):\n",
    "    s=s.split(',')\n",
    "    dollars=[]\n",
    "    d=[]\n",
    "    a=0\n",
    "    for i in s:\n",
    "        if \"d\" in i:\n",
    "            dollars.append(i)\n",
    "    for i in dollars:\n",
    "        i=i[1:]\n",
    "        d.append(i) \n",
    "    for i in d:\n",
    "        if 'k' in i:\n",
    "            i=i[:-1]+'000'\n",
    "            d.append(i)\n",
    "    for i in d:\n",
    "        if 'k' in i:\n",
    "            continue\n",
    "        else:\n",
    "            a+=int(i)\n",
    "    return a"
   ]
  },
  {
   "cell_type": "code",
   "execution_count": 103,
   "id": "b6bd635b",
   "metadata": {},
   "outputs": [
    {
     "data": {
      "text/plain": [
       "2050"
      ]
     },
     "execution_count": 103,
     "metadata": {},
     "output_type": "execute_result"
    }
   ],
   "source": [
    "add_bill(\"d50,p92,d2k,p62\")"
   ]
  },
  {
   "cell_type": "code",
   "execution_count": 104,
   "id": "644e06a9",
   "metadata": {},
   "outputs": [
    {
     "data": {
      "text/plain": [
       "2200"
      ]
     },
     "execution_count": 104,
     "metadata": {},
     "output_type": "execute_result"
    }
   ],
   "source": [
    "add_bill(\"p30,d2k,p60,d200,p360\")"
   ]
  },
  {
   "cell_type": "code",
   "execution_count": 127,
   "id": "5fd522d4",
   "metadata": {},
   "outputs": [],
   "source": [
    "## Q5.\n",
    "def flip_list(l):\n",
    "    if type(l[0])!=list:\n",
    "        return [[i] for i in l]\n",
    "    if type(l[0])==list:\n",
    "        return [i[0] for i in l]"
   ]
  },
  {
   "cell_type": "code",
   "execution_count": 128,
   "id": "14a027a4",
   "metadata": {},
   "outputs": [
    {
     "data": {
      "text/plain": [
       "[[5], [9], ['p'], [True], [0]]"
      ]
     },
     "execution_count": 128,
     "metadata": {},
     "output_type": "execute_result"
    }
   ],
   "source": [
    "flip_list([5,9,'p',True,0])"
   ]
  },
  {
   "cell_type": "code",
   "execution_count": 129,
   "id": "34d8c42d",
   "metadata": {},
   "outputs": [
    {
     "data": {
      "text/plain": [
       "[5, 9, 'p', True, 0]"
      ]
     },
     "execution_count": 129,
     "metadata": {},
     "output_type": "execute_result"
    }
   ],
   "source": [
    "flip_list([[5], [9], ['p'], [True], [0]])"
   ]
  },
  {
   "cell_type": "code",
   "execution_count": null,
   "id": "cbd9bb14",
   "metadata": {},
   "outputs": [],
   "source": []
  }
 ],
 "metadata": {
  "kernelspec": {
   "display_name": "Python 3",
   "language": "python",
   "name": "python3"
  },
  "language_info": {
   "codemirror_mode": {
    "name": "ipython",
    "version": 3
   },
   "file_extension": ".py",
   "mimetype": "text/x-python",
   "name": "python",
   "nbconvert_exporter": "python",
   "pygments_lexer": "ipython3",
   "version": "3.9.13"
  }
 },
 "nbformat": 4,
 "nbformat_minor": 5
}
