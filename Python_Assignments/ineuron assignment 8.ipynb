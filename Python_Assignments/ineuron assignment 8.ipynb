{
 "cells": [
  {
   "cell_type": "code",
   "execution_count": 51,
   "id": "757fd37e",
   "metadata": {},
   "outputs": [],
   "source": [
    "## Q1.\n",
    "def vowel_links(s):\n",
    "    vowel= ['a','e','i','o','u']\n",
    "    d=0\n",
    "    b=s.split(' ')\n",
    "    for i in range(len(b)-1):\n",
    "        if (b[i][-1] in vowel and b[i+1][0] in vowel):\n",
    "            d+=1\n",
    "    if d>0:\n",
    "        return True\n",
    "    else:\n",
    "        return False"
   ]
  },
  {
   "cell_type": "code",
   "execution_count": 52,
   "id": "d1c3a7d2",
   "metadata": {},
   "outputs": [
    {
     "data": {
      "text/plain": [
       "True"
      ]
     },
     "execution_count": 52,
     "metadata": {},
     "output_type": "execute_result"
    }
   ],
   "source": [
    "vowel_links(\"a boy name is un\")"
   ]
  },
  {
   "cell_type": "code",
   "execution_count": 53,
   "id": "27342921",
   "metadata": {},
   "outputs": [
    {
     "data": {
      "text/plain": [
       "False"
      ]
     },
     "execution_count": 53,
     "metadata": {},
     "output_type": "execute_result"
    }
   ],
   "source": [
    "vowel_links(\"an open fire\")"
   ]
  },
  {
   "cell_type": "code",
   "execution_count": 56,
   "id": "40146d31",
   "metadata": {},
   "outputs": [],
   "source": [
    "## Q2.\n",
    "def first_before_second(l,f,s):\n",
    "    a=[]\n",
    "    d=0\n",
    "    for i in l:\n",
    "        if i==f:\n",
    "            a.append(1)\n",
    "        if i==s:\n",
    "            a.append(0)\n",
    "    for i in range(len(a)-1):\n",
    "        if a[i]>=a[i+1]:\n",
    "            d+=1\n",
    "    if d==len(a)-1:\n",
    "        return True\n",
    "    else:\n",
    "        return False"
   ]
  },
  {
   "cell_type": "code",
   "execution_count": 57,
   "id": "d74c8906",
   "metadata": {},
   "outputs": [
    {
     "data": {
      "text/plain": [
       "False"
      ]
     },
     "execution_count": 57,
     "metadata": {},
     "output_type": "execute_result"
    }
   ],
   "source": [
    "first_before_second(\"happy birthday\",\"a\",\"y\")"
   ]
  },
  {
   "cell_type": "code",
   "execution_count": 60,
   "id": "d61b4af7",
   "metadata": {},
   "outputs": [
    {
     "data": {
      "text/plain": [
       "True"
      ]
     },
     "execution_count": 60,
     "metadata": {},
     "output_type": "execute_result"
    }
   ],
   "source": [
    "first_before_second(\"a rabbit jumps joyfully\",\"a\",\"j\")"
   ]
  },
  {
   "cell_type": "code",
   "execution_count": 61,
   "id": "b4b21b2e",
   "metadata": {},
   "outputs": [],
   "source": [
    "## Q3.\n",
    "def char_at_pos(s,c):\n",
    "    a=[]\n",
    "    b=''\n",
    "    if c== \"odd\":\n",
    "        for i in range(len(s)):\n",
    "            if i%2==0:\n",
    "                if type(s)==list:\n",
    "                    a.append(s[i])\n",
    "                elif type(s)==str:\n",
    "                    b+=''.join(s[i])\n",
    "    elif c== \"even\":\n",
    "        for i in range(len(s)):\n",
    "            if i%2!=0:\n",
    "                if type(s)==list:\n",
    "                    a.append(s[i])\n",
    "                elif type(s)==str:\n",
    "                    b+=''.join(s[i])\n",
    "    if type(s)==list:\n",
    "        return a\n",
    "    elif type(s)==str:\n",
    "        return b"
   ]
  },
  {
   "cell_type": "code",
   "execution_count": 62,
   "id": "57a63736",
   "metadata": {},
   "outputs": [
    {
     "data": {
      "text/plain": [
       "[2, 7, 6]"
      ]
     },
     "execution_count": 62,
     "metadata": {},
     "output_type": "execute_result"
    }
   ],
   "source": [
    "char_at_pos([2,8,7,5,6],\"odd\")"
   ]
  },
  {
   "cell_type": "code",
   "execution_count": 63,
   "id": "999ad1a8",
   "metadata": {},
   "outputs": [
    {
     "data": {
      "text/plain": [
       "[8, 5]"
      ]
     },
     "execution_count": 63,
     "metadata": {},
     "output_type": "execute_result"
    }
   ],
   "source": [
    "char_at_pos([2,8,7,5,6],\"even\")"
   ]
  },
  {
   "cell_type": "code",
   "execution_count": 64,
   "id": "028cd56c",
   "metadata": {},
   "outputs": [
    {
     "data": {
      "text/plain": [
       "'EAI'"
      ]
     },
     "execution_count": 64,
     "metadata": {},
     "output_type": "execute_result"
    }
   ],
   "source": [
    "char_at_pos(\"EDABIT\",\"odd\")"
   ]
  },
  {
   "cell_type": "code",
   "execution_count": 189,
   "id": "1d8ddb33",
   "metadata": {},
   "outputs": [],
   "source": [
    "## Q4.\n",
    "def GCD(l):\n",
    "    mini=1\n",
    "    m=[]\n",
    "    a=[]\n",
    "    for i in range(len(l)):\n",
    "        for j in range(i,len(l)):\n",
    "            if l[i]>=l[j]:\n",
    "                l[i],l[j]=l[j],l[i]\n",
    "    lowest=l[0]\n",
    "    for i in range(1,lowest+1):\n",
    "        for j in l:\n",
    "            if j%i==0:\n",
    "                m.append(j)\n",
    "        if len(m)==len(l):\n",
    "            a.append(i)\n",
    "        else:\n",
    "            m=[]\n",
    "    return a[-1]"
   ]
  },
  {
   "cell_type": "code",
   "execution_count": 190,
   "id": "8b2c18cf",
   "metadata": {},
   "outputs": [
    {
     "data": {
      "text/plain": [
       "5"
      ]
     },
     "execution_count": 190,
     "metadata": {},
     "output_type": "execute_result"
    }
   ],
   "source": [
    "GCD([25,15,10,90,80,85,155])"
   ]
  },
  {
   "cell_type": "code",
   "execution_count": 191,
   "id": "0ed5a46c",
   "metadata": {},
   "outputs": [
    {
     "data": {
      "text/plain": [
       "1"
      ]
     },
     "execution_count": 191,
     "metadata": {},
     "output_type": "execute_result"
    }
   ],
   "source": [
    "GCD([10,8,3,100])"
   ]
  },
  {
   "cell_type": "code",
   "execution_count": 249,
   "id": "020fd362",
   "metadata": {},
   "outputs": [],
   "source": [
    "## Q5.\n",
    "def palindrome_type(num):\n",
    "    number=[]\n",
    "    pal=[]\n",
    "    d=0\n",
    "    b=0\n",
    "    def dec_to_bi(num):\n",
    "        if num>=1:\n",
    "            dec_to_bi(num//2)\n",
    "        pal.append(num%2)\n",
    "        return pal\n",
    "    n=num\n",
    "    temp=[]\n",
    "    while n>0:\n",
    "        digit=n%10\n",
    "        temp.append(digit)\n",
    "        n=n//10\n",
    "    pal=dec_to_bi(num)[1:]\n",
    "    #print(temp)\n",
    "    #print(pal)\n",
    "    for i in range(len(temp)):\n",
    "        if temp[i]==temp[len(temp)-i-1]:\n",
    "            d+=1\n",
    "    for i in range(len(pal)):\n",
    "        if pal[i]==pal[len(pal)-i-1]:\n",
    "            b+=1\n",
    "    if b==len(pal) and d==len(temp):\n",
    "        return \"Decimal and binary.\"\n",
    "    elif b==len(pal) and d!=len(temp):\n",
    "        return \"Binary only.\"\n",
    "    elif b!=len(pal) and d==len(temp):\n",
    "        return \"Decimal only.\"\n",
    "    else:\n",
    "        return \"Neither!\""
   ]
  },
  {
   "cell_type": "code",
   "execution_count": 251,
   "id": "f768a3c2",
   "metadata": {},
   "outputs": [
    {
     "data": {
      "text/plain": [
       "'Decimal only.'"
      ]
     },
     "execution_count": 251,
     "metadata": {},
     "output_type": "execute_result"
    }
   ],
   "source": [
    "palindrome_type(1306031)"
   ]
  },
  {
   "cell_type": "code",
   "execution_count": 252,
   "id": "ee7c7e55",
   "metadata": {},
   "outputs": [
    {
     "data": {
      "text/plain": [
       "'Binary only.'"
      ]
     },
     "execution_count": 252,
     "metadata": {},
     "output_type": "execute_result"
    }
   ],
   "source": [
    "palindrome_type(427787)"
   ]
  },
  {
   "cell_type": "code",
   "execution_count": 253,
   "id": "0e32fa9d",
   "metadata": {},
   "outputs": [
    {
     "data": {
      "text/plain": [
       "'Decimal and binary.'"
      ]
     },
     "execution_count": 253,
     "metadata": {},
     "output_type": "execute_result"
    }
   ],
   "source": [
    "palindrome_type(313)"
   ]
  },
  {
   "cell_type": "code",
   "execution_count": 254,
   "id": "9018706f",
   "metadata": {},
   "outputs": [
    {
     "data": {
      "text/plain": [
       "'Neither!'"
      ]
     },
     "execution_count": 254,
     "metadata": {},
     "output_type": "execute_result"
    }
   ],
   "source": [
    "palindrome_type(934)"
   ]
  },
  {
   "cell_type": "code",
   "execution_count": null,
   "id": "c8eb0508",
   "metadata": {},
   "outputs": [],
   "source": []
  }
 ],
 "metadata": {
  "kernelspec": {
   "display_name": "Python 3",
   "language": "python",
   "name": "python3"
  },
  "language_info": {
   "codemirror_mode": {
    "name": "ipython",
    "version": 3
   },
   "file_extension": ".py",
   "mimetype": "text/x-python",
   "name": "python",
   "nbconvert_exporter": "python",
   "pygments_lexer": "ipython3",
   "version": "3.9.13"
  }
 },
 "nbformat": 4,
 "nbformat_minor": 5
}
