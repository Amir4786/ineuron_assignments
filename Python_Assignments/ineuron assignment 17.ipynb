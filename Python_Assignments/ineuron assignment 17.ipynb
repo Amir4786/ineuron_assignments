{
 "cells": [
  {
   "cell_type": "code",
   "execution_count": 29,
   "id": "ea169561",
   "metadata": {},
   "outputs": [],
   "source": [
    "## Q1.\n",
    "def transpose_matrix(l):\n",
    "    a=[]\n",
    "    b=[]\n",
    "    n=len(l)\n",
    "    count=0\n",
    "    while n>0:\n",
    "        for i in range(len(l)):\n",
    "            a.append(l[i][count])\n",
    "        count=1\n",
    "        b.append(a)\n",
    "        a=[]\n",
    "        n-=1\n",
    "    b=b[:len(l[0])]\n",
    "    return b"
   ]
  },
  {
   "cell_type": "code",
   "execution_count": 30,
   "id": "d797f105",
   "metadata": {},
   "outputs": [
    {
     "data": {
      "text/plain": [
       "[[1, 2, 3], [1, 2, 3], [1, 2, 3]]"
      ]
     },
     "execution_count": 30,
     "metadata": {},
     "output_type": "execute_result"
    }
   ],
   "source": [
    "transpose_matrix([[1,1,1],[2,2,2],[3,3,3]])"
   ]
  },
  {
   "cell_type": "code",
   "execution_count": 32,
   "id": "4bbd4fb4",
   "metadata": {},
   "outputs": [
    {
     "data": {
      "text/plain": [
       "[[5, 6, 9, 8], [5, 7, 2, 1]]"
      ]
     },
     "execution_count": 32,
     "metadata": {},
     "output_type": "execute_result"
    }
   ],
   "source": [
    "transpose_matrix([[5,5],[6,7],[9,2],[8,1]])"
   ]
  },
  {
   "cell_type": "code",
   "execution_count": 48,
   "id": "93db2f54",
   "metadata": {},
   "outputs": [],
   "source": [
    "## Q2.\n",
    "def is_valid_hex_code(s):\n",
    "    a=0\n",
    "    if s[0]=='#' and len(s)==7:\n",
    "        alpha=['a','b','c','d','e','f','0','1','2','3','4','5','6','7','8','9','A','B','C','D','E','F']\n",
    "        for i in range(1,len(s)):\n",
    "            if s[i] in alpha:\n",
    "                a+=1\n",
    "    else:\n",
    "        return False\n",
    "    if a==6:\n",
    "        return True\n",
    "    else:\n",
    "        return False"
   ]
  },
  {
   "cell_type": "code",
   "execution_count": 49,
   "id": "de5caf10",
   "metadata": {},
   "outputs": [
    {
     "data": {
      "text/plain": [
       "False"
      ]
     },
     "execution_count": 49,
     "metadata": {},
     "output_type": "execute_result"
    }
   ],
   "source": [
    "is_valid_hex_code(\"#CD86P7\")"
   ]
  },
  {
   "cell_type": "code",
   "execution_count": 50,
   "id": "6890631a",
   "metadata": {},
   "outputs": [
    {
     "data": {
      "text/plain": [
       "True"
      ]
     },
     "execution_count": 50,
     "metadata": {},
     "output_type": "execute_result"
    }
   ],
   "source": [
    "is_valid_hex_code(\"#CD86a7\")"
   ]
  },
  {
   "cell_type": "code",
   "execution_count": 112,
   "id": "6725ed55",
   "metadata": {},
   "outputs": [],
   "source": [
    "## Q3.\n",
    "def mark_maths(l):\n",
    "    add=[]\n",
    "    sub=[]\n",
    "    mul=[]\n",
    "    div=[]\n",
    "    d=0\n",
    "    for i in l:\n",
    "        s,e=i.split(\"=\")\n",
    "        for j in s:\n",
    "            if \"+\" in j:\n",
    "                a,b=s.split(\"+\")\n",
    "                add.append(a)\n",
    "                add.append(b)\n",
    "                add.append(e)\n",
    "            if \"-\" in j:\n",
    "                a,b=s.split(\"-\")\n",
    "                sub.append(a)\n",
    "                sub.append(b)\n",
    "                sub.append(e)\n",
    "            if \"*\" in j:\n",
    "                a,b=s.split(\"*\")\n",
    "                mul.append(a)\n",
    "                mul.append(b)\n",
    "                mul.append(e)\n",
    "            if \"/\" in j:\n",
    "                a,b=s.split(\"/\")\n",
    "                div.append(a)\n",
    "                div.append(b)\n",
    "                div.append(e)\n",
    "    for i in range(0,len(add),3):\n",
    "        if int(add[i])+int(add[i+1])==int(add[i+2]):\n",
    "            d+=1\n",
    "    for i in range(0,len(sub),3):\n",
    "        if int(sub[i])-int(sub[i+1])==int(sub[i+2]):\n",
    "            d+=1\n",
    "    for i in range(0,len(mul),3):\n",
    "        if int(mul[i])*int(mul[i+1])==int(mul[i+2]):\n",
    "            d+=1\n",
    "    for i in range(0,len(div),3):\n",
    "        if int(div[i])/int(div[i+1])==int(div[i+2]):\n",
    "            d+=1\n",
    "    percent=(d*100)//len(l)\n",
    "    return f\"{percent}%\""
   ]
  },
  {
   "cell_type": "code",
   "execution_count": 113,
   "id": "bed78f34",
   "metadata": {},
   "outputs": [
    {
     "data": {
      "text/plain": [
       "'83%'"
      ]
     },
     "execution_count": 113,
     "metadata": {},
     "output_type": "execute_result"
    }
   ],
   "source": [
    "mark_maths([\"5+6=11\",\"8/2=4\",\"9+2=11\",\"7-2=5\",\"8*5=20\",\"8*5=40\"])"
   ]
  },
  {
   "cell_type": "code",
   "execution_count": 114,
   "id": "13a0abc7",
   "metadata": {},
   "outputs": [
    {
     "data": {
      "text/plain": [
       "'0%'"
      ]
     },
     "execution_count": 114,
     "metadata": {},
     "output_type": "execute_result"
    }
   ],
   "source": [
    "mark_maths([\"1-2=1\"])"
   ]
  },
  {
   "cell_type": "code",
   "execution_count": 178,
   "id": "5d779cb5",
   "metadata": {},
   "outputs": [],
   "source": [
    "## Q4.\n",
    "def magic_square_game(l1,l2):\n",
    "    if len(l1[1])==3 and len(l2[1])==3:\n",
    "        sum_l1=0\n",
    "        sum_l2=0\n",
    "        for i in range(3):\n",
    "            sum_l1+=int(l1[1][i])\n",
    "            sum_l2+=int(l2[1][i])\n",
    "        if sum_l1%2!=0 and sum_l2%2==0 and l1[1][l2[0]-1]==l2[1][l1[0]-1]:\n",
    "            return True\n",
    "        else:\n",
    "            return False"
   ]
  },
  {
   "cell_type": "code",
   "execution_count": 179,
   "id": "671ccaab",
   "metadata": {},
   "outputs": [
    {
     "data": {
      "text/plain": [
       "True"
      ]
     },
     "execution_count": 179,
     "metadata": {},
     "output_type": "execute_result"
    }
   ],
   "source": [
    "magic_square_game([2,\"001\"],[1,\"101\"])"
   ]
  },
  {
   "cell_type": "code",
   "execution_count": 180,
   "id": "b0559f10",
   "metadata": {},
   "outputs": [
    {
     "data": {
      "text/plain": [
       "False"
      ]
     },
     "execution_count": 180,
     "metadata": {},
     "output_type": "execute_result"
    }
   ],
   "source": [
    "magic_square_game([1,\"010\"],[1,\"101\"])"
   ]
  },
  {
   "cell_type": "code",
   "execution_count": 181,
   "id": "a6b4cb2f",
   "metadata": {},
   "outputs": [
    {
     "data": {
      "text/plain": [
       "True"
      ]
     },
     "execution_count": 181,
     "metadata": {},
     "output_type": "execute_result"
    }
   ],
   "source": [
    "magic_square_game([3,\"111\"],[1,\"101\"])"
   ]
  },
  {
   "cell_type": "code",
   "execution_count": 200,
   "id": "e95583da",
   "metadata": {},
   "outputs": [],
   "source": [
    "## Q5.\n",
    "def lets_meet(d,v1,v2):\n",
    "    #d= distance, v1=velocit from a, v2= velocit from b\n",
    "    d1=(d*v1)/(v1+v2)\n",
    "    t=d1/v1\n",
    "    hour= int(t)\n",
    "    mint=int((t-hour)*60)\n",
    "    sec=int((t-hour-mint/60)*3600)\n",
    "    \n",
    "    return f\"{hour}h {mint}min {sec}s\""
   ]
  },
  {
   "cell_type": "code",
   "execution_count": 201,
   "id": "06b40eb2",
   "metadata": {},
   "outputs": [
    {
     "data": {
      "text/plain": [
       "'0h 38min 34s'"
      ]
     },
     "execution_count": 201,
     "metadata": {},
     "output_type": "execute_result"
    }
   ],
   "source": [
    "lets_meet(90,75,65)"
   ]
  },
  {
   "cell_type": "code",
   "execution_count": 202,
   "id": "ab6f78f7",
   "metadata": {},
   "outputs": [
    {
     "data": {
      "text/plain": [
       "'2h 30min 0s'"
      ]
     },
     "execution_count": 202,
     "metadata": {},
     "output_type": "execute_result"
    }
   ],
   "source": [
    "lets_meet(100,10,30)"
   ]
  },
  {
   "cell_type": "code",
   "execution_count": null,
   "id": "96536c41",
   "metadata": {},
   "outputs": [],
   "source": []
  }
 ],
 "metadata": {
  "kernelspec": {
   "display_name": "Python 3",
   "language": "python",
   "name": "python3"
  },
  "language_info": {
   "codemirror_mode": {
    "name": "ipython",
    "version": 3
   },
   "file_extension": ".py",
   "mimetype": "text/x-python",
   "name": "python",
   "nbconvert_exporter": "python",
   "pygments_lexer": "ipython3",
   "version": "3.9.13"
  }
 },
 "nbformat": 4,
 "nbformat_minor": 5
}
