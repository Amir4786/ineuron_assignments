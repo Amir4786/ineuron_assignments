{
 "cells": [
  {
   "cell_type": "code",
   "execution_count": 6,
   "id": "89242415",
   "metadata": {},
   "outputs": [],
   "source": [
    "## Q1.\n",
    "def count_layers(l):\n",
    "    a=0\n",
    "    for i in range(len(l)//2):\n",
    "        if l[i]==l[len(l)-1-i]:\n",
    "            a+=1\n",
    "    if len(l)%2!=0:\n",
    "        a+=1\n",
    "    return a"
   ]
  },
  {
   "cell_type": "code",
   "execution_count": 8,
   "id": "857dbed9",
   "metadata": {},
   "outputs": [
    {
     "data": {
      "text/plain": [
       "2"
      ]
     },
     "execution_count": 8,
     "metadata": {},
     "output_type": "execute_result"
    }
   ],
   "source": [
    "count_layers([\n",
    "    \"AAAA\",\n",
    "    \"ABBA\",\n",
    "    \"AAAA\"\n",
    "])"
   ]
  },
  {
   "cell_type": "code",
   "execution_count": 11,
   "id": "2d6d8faa",
   "metadata": {},
   "outputs": [
    {
     "data": {
      "text/plain": [
       "4"
      ]
     },
     "execution_count": 11,
     "metadata": {},
     "output_type": "execute_result"
    }
   ],
   "source": [
    "count_layers([\n",
    "    \"AAAAAAA\",\n",
    "    \"ABBBBBA\",\n",
    "    \"ABCCCBA\",\n",
    "    \"ABCDCBA\",\n",
    "    \"ABCCCBA\",\n",
    "    \"ABBBBBA\",\n",
    "    \"AAAAAAA\"\n",
    "])"
   ]
  },
  {
   "cell_type": "code",
   "execution_count": 32,
   "id": "d2c6fd18",
   "metadata": {},
   "outputs": [],
   "source": [
    "## Q2.\n",
    "def unique_styles(l):\n",
    "    a=[]\n",
    "    b=[]\n",
    "    for i in l:\n",
    "        i=i.split(\",\")\n",
    "        for j in i:\n",
    "            a.append(j)\n",
    "    for i in a:\n",
    "        if i not in b:\n",
    "            b.append(i)\n",
    "    return len(b)"
   ]
  },
  {
   "cell_type": "code",
   "execution_count": 34,
   "id": "797f40b0",
   "metadata": {},
   "outputs": [
    {
     "data": {
      "text/plain": [
       "7"
      ]
     },
     "execution_count": 34,
     "metadata": {},
     "output_type": "execute_result"
    }
   ],
   "source": [
    "unique_styles([\"Soul\", \"House,Folk\", \"Trance,Downtempo,Big Beat,House\",\n",
    "              \"Deep House\",\"Soul\"])"
   ]
  },
  {
   "cell_type": "code",
   "execution_count": 41,
   "id": "0b69ab5c",
   "metadata": {},
   "outputs": [],
   "source": [
    "## Q3.\n",
    "def is_prime(primes,x):\n",
    "    a=0\n",
    "    if x in primes:\n",
    "        for i in range(2,x):\n",
    "            if x%i==0:\n",
    "                a+=1\n",
    "    else:\n",
    "        return f\"{x} is not in {primes}\"\n",
    "    if a==0:\n",
    "        return \"yes\"\n",
    "    else:\n",
    "        return \"no\""
   ]
  },
  {
   "cell_type": "code",
   "execution_count": 47,
   "id": "50328392",
   "metadata": {},
   "outputs": [
    {
     "data": {
      "text/plain": [
       "'yes'"
      ]
     },
     "execution_count": 47,
     "metadata": {},
     "output_type": "execute_result"
    }
   ],
   "source": [
    "is_prime([2,9,7,5,56,17],17)"
   ]
  },
  {
   "cell_type": "code",
   "execution_count": 48,
   "id": "f418a638",
   "metadata": {},
   "outputs": [],
   "source": [
    "## Q4.\n",
    "def power_ranger(n,a,b):\n",
    "    count=0\n",
    "    for i in range(b//2):\n",
    "        if i**n>=a and i**n<=b:\n",
    "            count+=1\n",
    "    return count"
   ]
  },
  {
   "cell_type": "code",
   "execution_count": 49,
   "id": "bf30983b",
   "metadata": {},
   "outputs": [
    {
     "data": {
      "text/plain": [
       "2"
      ]
     },
     "execution_count": 49,
     "metadata": {},
     "output_type": "execute_result"
    }
   ],
   "source": [
    "power_ranger(2,49,65)"
   ]
  },
  {
   "cell_type": "code",
   "execution_count": 50,
   "id": "96a2e4dd",
   "metadata": {},
   "outputs": [
    {
     "data": {
      "text/plain": [
       "3"
      ]
     },
     "execution_count": 50,
     "metadata": {},
     "output_type": "execute_result"
    }
   ],
   "source": [
    "power_ranger(4,250,1300)"
   ]
  },
  {
   "cell_type": "code",
   "execution_count": 85,
   "id": "3751e9b6",
   "metadata": {},
   "outputs": [],
   "source": [
    "## Q5.\n",
    "def rearranged_difference(x):\n",
    "    number=x\n",
    "    temp=[]\n",
    "    a=0\n",
    "    b=0\n",
    "    while number>0:\n",
    "        digit=number%10\n",
    "        temp.append(digit)\n",
    "        number=number//10\n",
    "    for i in range(len(temp)):\n",
    "        for j in range(i,len(temp)):\n",
    "            if temp[i]>=temp[j]:\n",
    "                temp[i],temp[j]=temp[j],temp[i]\n",
    "    temp_rev=temp[::-1]\n",
    "    for i in range(len(temp)):\n",
    "        a+=temp[i]*10**i\n",
    "        b+=temp_rev[i]*10**i\n",
    "    return a-b"
   ]
  },
  {
   "cell_type": "code",
   "execution_count": 87,
   "id": "eed99867",
   "metadata": {},
   "outputs": [
    {
     "data": {
      "text/plain": [
       "760833"
      ]
     },
     "execution_count": 87,
     "metadata": {},
     "output_type": "execute_result"
    }
   ],
   "source": [
    "rearranged_difference(972882)"
   ]
  },
  {
   "cell_type": "code",
   "execution_count": 88,
   "id": "d59cf5a9",
   "metadata": {},
   "outputs": [
    {
     "data": {
      "text/plain": [
       "7709823"
      ]
     },
     "execution_count": 88,
     "metadata": {},
     "output_type": "execute_result"
    }
   ],
   "source": [
    "rearranged_difference(3320707)"
   ]
  },
  {
   "cell_type": "code",
   "execution_count": 89,
   "id": "b949bf04",
   "metadata": {},
   "outputs": [
    {
     "data": {
      "text/plain": [
       "90981"
      ]
     },
     "execution_count": 89,
     "metadata": {},
     "output_type": "execute_result"
    }
   ],
   "source": [
    "rearranged_difference(90010)"
   ]
  },
  {
   "cell_type": "code",
   "execution_count": null,
   "id": "905adb35",
   "metadata": {},
   "outputs": [],
   "source": []
  }
 ],
 "metadata": {
  "kernelspec": {
   "display_name": "Python 3",
   "language": "python",
   "name": "python3"
  },
  "language_info": {
   "codemirror_mode": {
    "name": "ipython",
    "version": 3
   },
   "file_extension": ".py",
   "mimetype": "text/x-python",
   "name": "python",
   "nbconvert_exporter": "python",
   "pygments_lexer": "ipython3",
   "version": "3.9.13"
  }
 },
 "nbformat": 4,
 "nbformat_minor": 5
}
