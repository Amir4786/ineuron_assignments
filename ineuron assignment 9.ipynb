{
 "cells": [
  {
   "cell_type": "code",
   "execution_count": 37,
   "id": "8a40ef8d",
   "metadata": {},
   "outputs": [],
   "source": [
    "## Q1.\n",
    "def playback_duration(l,d):\n",
    "    l=l.split(\":\")\n",
    "    result=[]\n",
    "    for i in l:\n",
    "        if i[0]==\"0\":\n",
    "            result.append(eval(i[1]))\n",
    "            continue\n",
    "        else:\n",
    "            i=eval(i)\n",
    "            result.append(i)\n",
    "    original_time=3600*result[0]+60*result[1]+result[2]\n",
    "    new_time= original_time/d\n",
    "    new_hour= int(new_time//3600)\n",
    "    new_min= int((new_time-new_hour*3600)//60)\n",
    "    new_sec= int(new_time-new_hour*3600-new_min*60)\n",
    "    a=[new_hour,new_min,new_sec]\n",
    "    b=[]\n",
    "    for i in a:\n",
    "        i=str(i)\n",
    "        if len(i)==1:\n",
    "            i=\"0\"+i\n",
    "            b.append(i)\n",
    "        else:\n",
    "            b.append(i)\n",
    "    b=\":\".join(b)\n",
    "    return b"
   ]
  },
  {
   "cell_type": "code",
   "execution_count": 38,
   "id": "cdf84397",
   "metadata": {},
   "outputs": [
    {
     "data": {
      "text/plain": [
       "'01:25:05'"
      ]
     },
     "execution_count": 38,
     "metadata": {},
     "output_type": "execute_result"
    }
   ],
   "source": [
    "playback_duration(\"02:50:10\",2)"
   ]
  },
  {
   "cell_type": "code",
   "execution_count": 39,
   "id": "24a5a6b3",
   "metadata": {},
   "outputs": [
    {
     "data": {
      "text/plain": [
       "'102:40:18'"
      ]
     },
     "execution_count": 39,
     "metadata": {},
     "output_type": "execute_result"
    }
   ],
   "source": [
    "playback_duration(\"51:20:09\",0.5)"
   ]
  },
  {
   "cell_type": "code",
   "execution_count": 40,
   "id": "765b9b87",
   "metadata": {},
   "outputs": [
    {
     "data": {
      "text/plain": [
       "'13:10:58'"
      ]
     },
     "execution_count": 40,
     "metadata": {},
     "output_type": "execute_result"
    }
   ],
   "source": [
    "playback_duration(\"06:35:29\",0.5)"
   ]
  },
  {
   "cell_type": "code",
   "execution_count": 80,
   "id": "177f2e54",
   "metadata": {},
   "outputs": [],
   "source": [
    "## Q2.\n",
    "def pile_of_cubes(x):\n",
    "    num=x\n",
    "    d=1\n",
    "    a=[]\n",
    "    b=0\n",
    "    while num>0:\n",
    "        a.append(num)\n",
    "        num-=d**3\n",
    "        d+=1\n",
    "    number=int(round(a[-1]**(1/3)))\n",
    "    for i in range(1,number+1):\n",
    "        b+=i**3\n",
    "    if b==x:\n",
    "        return number\n",
    "    else:\n",
    "        return \"None\""
   ]
  },
  {
   "cell_type": "code",
   "execution_count": 81,
   "id": "2c3ca320",
   "metadata": {},
   "outputs": [
    {
     "data": {
      "text/plain": [
       "45"
      ]
     },
     "execution_count": 81,
     "metadata": {},
     "output_type": "execute_result"
    }
   ],
   "source": [
    "pile_of_cubes(1071225)"
   ]
  },
  {
   "cell_type": "code",
   "execution_count": 82,
   "id": "f9274778",
   "metadata": {},
   "outputs": [
    {
     "data": {
      "text/plain": [
       "'None'"
      ]
     },
     "execution_count": 82,
     "metadata": {},
     "output_type": "execute_result"
    }
   ],
   "source": [
    "pile_of_cubes(16)"
   ]
  },
  {
   "cell_type": "code",
   "execution_count": 83,
   "id": "d503c70c",
   "metadata": {},
   "outputs": [
    {
     "data": {
      "text/plain": [
       "2022"
      ]
     },
     "execution_count": 83,
     "metadata": {},
     "output_type": "execute_result"
    }
   ],
   "source": [
    "pile_of_cubes(4183059834009)"
   ]
  },
  {
   "cell_type": "code",
   "execution_count": 90,
   "id": "15d8059b",
   "metadata": {},
   "outputs": [],
   "source": [
    "## Q3.\n",
    "def find_fulcrum(l):\n",
    "    for i in range(len(l)):\n",
    "        b=0\n",
    "        a=0\n",
    "        before=l[:i]\n",
    "        after=l[i+1:]\n",
    "        for j in before:\n",
    "            b+=j\n",
    "        for j in after:\n",
    "            a+=j\n",
    "        if b==a:\n",
    "            return l[i]\n",
    "        else:\n",
    "            pass"
   ]
  },
  {
   "cell_type": "code",
   "execution_count": 91,
   "id": "61561a75",
   "metadata": {},
   "outputs": [
    {
     "data": {
      "text/plain": [
       "2"
      ]
     },
     "execution_count": 91,
     "metadata": {},
     "output_type": "execute_result"
    }
   ],
   "source": [
    "find_fulcrum([3,1,5,2,6,4,-1])"
   ]
  },
  {
   "cell_type": "code",
   "execution_count": 92,
   "id": "587212c5",
   "metadata": {},
   "outputs": [
    {
     "data": {
      "text/plain": [
       "1"
      ]
     },
     "execution_count": 92,
     "metadata": {},
     "output_type": "execute_result"
    }
   ],
   "source": [
    "find_fulcrum([3,1,1,4])"
   ]
  },
  {
   "cell_type": "code",
   "execution_count": 93,
   "id": "5aba3733",
   "metadata": {},
   "outputs": [],
   "source": [
    "find_fulcrum([8,8,8,8])"
   ]
  },
  {
   "cell_type": "code",
   "execution_count": 99,
   "id": "e00a2ae0",
   "metadata": {},
   "outputs": [],
   "source": [
    "## Q4.\n",
    "def sock_merchant(l):\n",
    "    pairs={}\n",
    "    pair=0\n",
    "    for i in l:\n",
    "        if i not in pairs:\n",
    "            pairs[i]=1\n",
    "        else:\n",
    "            pairs[i]+=1\n",
    "    for k,v in pairs.items():\n",
    "        pair+=v//2\n",
    "    return pair"
   ]
  },
  {
   "cell_type": "code",
   "execution_count": 100,
   "id": "e2d83185",
   "metadata": {},
   "outputs": [
    {
     "data": {
      "text/plain": [
       "2"
      ]
     },
     "execution_count": 100,
     "metadata": {},
     "output_type": "execute_result"
    }
   ],
   "source": [
    "sock_merchant([1,2,3,1,2,1,2])"
   ]
  },
  {
   "cell_type": "code",
   "execution_count": 101,
   "id": "532eef1c",
   "metadata": {},
   "outputs": [
    {
     "data": {
      "text/plain": [
       "0"
      ]
     },
     "execution_count": 101,
     "metadata": {},
     "output_type": "execute_result"
    }
   ],
   "source": [
    "sock_merchant([1,2,3])"
   ]
  },
  {
   "cell_type": "code",
   "execution_count": 102,
   "id": "851eb439",
   "metadata": {},
   "outputs": [
    {
     "data": {
      "text/plain": [
       "4"
      ]
     },
     "execution_count": 102,
     "metadata": {},
     "output_type": "execute_result"
    }
   ],
   "source": [
    "sock_merchant([50,20,30,90,30,20,50,20,90])"
   ]
  },
  {
   "cell_type": "code",
   "execution_count": 1,
   "id": "11312f44",
   "metadata": {},
   "outputs": [],
   "source": [
    "## Q5.\n",
    "def negative_sum(s):\n",
    "    import regex as re\n",
    "    pat= re.compile(r\"(\\-\\d+)\")\n",
    "    l= pat.finditer(s)\n",
    "    b=0\n",
    "    for i in l:\n",
    "        i=int(i.group())\n",
    "        b+=i\n",
    "    return b"
   ]
  },
  {
   "cell_type": "code",
   "execution_count": 2,
   "id": "65212ccb",
   "metadata": {},
   "outputs": [
    {
     "data": {
      "text/plain": [
       "-37"
      ]
     },
     "execution_count": 2,
     "metadata": {},
     "output_type": "execute_result"
    }
   ],
   "source": [
    "negative_sum(\"-12 38%2$-25\")"
   ]
  },
  {
   "cell_type": "code",
   "execution_count": 4,
   "id": "5a9afc51",
   "metadata": {},
   "outputs": [
    {
     "data": {
      "text/plain": [
       "-63"
      ]
     },
     "execution_count": 4,
     "metadata": {},
     "output_type": "execute_result"
    }
   ],
   "source": [
    "negative_sum(\"-pk12 -38%2$-25\")"
   ]
  },
  {
   "cell_type": "code",
   "execution_count": null,
   "id": "eb6d8bf0",
   "metadata": {},
   "outputs": [],
   "source": []
  }
 ],
 "metadata": {
  "kernelspec": {
   "display_name": "Python 3",
   "language": "python",
   "name": "python3"
  },
  "language_info": {
   "codemirror_mode": {
    "name": "ipython",
    "version": 3
   },
   "file_extension": ".py",
   "mimetype": "text/x-python",
   "name": "python",
   "nbconvert_exporter": "python",
   "pygments_lexer": "ipython3",
   "version": "3.9.13"
  }
 },
 "nbformat": 4,
 "nbformat_minor": 5
}
